{
 "cells": [
  {
   "cell_type": "code",
   "execution_count": 1,
   "metadata": {
    "collapsed": true
   },
   "outputs": [],
   "source": [
    "import pandas as pd"
   ]
  },
  {
   "cell_type": "code",
   "execution_count": 101,
   "metadata": {
    "collapsed": true
   },
   "outputs": [],
   "source": [
    "import re"
   ]
  },
  {
   "cell_type": "markdown",
   "metadata": {},
   "source": [
    "## prepare data"
   ]
  },
  {
   "cell_type": "code",
   "execution_count": 540,
   "metadata": {},
   "outputs": [],
   "source": [
    "rel_train = pd.read_csv('relevance_train.csv')\n",
    "rel_test = pd.read_csv('relevance_test.csv')"
   ]
  },
  {
   "cell_type": "code",
   "execution_count": 545,
   "metadata": {},
   "outputs": [],
   "source": [
    "tr_q_id = []\n",
    "tr_d_id = []\n",
    "tr_rel = []\n",
    "\n",
    "with open('relevance_train.csv') as file:\n",
    "    lines = file.readlines()\n",
    "    for l in lines:\n",
    "        if '\\t' not in l:\n",
    "            continue\n",
    "            \n",
    "        spl = l.split()\n",
    "        tr_q_id.append(spl[0])\n",
    "        tr_d_id.append(spl[1])\n",
    "        tr_rel.append(spl[2])"
   ]
  },
  {
   "cell_type": "code",
   "execution_count": 496,
   "metadata": {},
   "outputs": [
    {
     "data": {
      "text/plain": [
       "'abdE'"
      ]
     },
     "execution_count": 496,
     "metadata": {},
     "output_type": "execute_result"
    }
   ],
   "source": [
    "regex = re.compile('[^a-zA-Z]')\n",
    "#First parameter is the replacement, second parameter is your input string\n",
    "regex.sub('', 'ab3d*E')"
   ]
  },
  {
   "cell_type": "code",
   "execution_count": 502,
   "metadata": {
    "collapsed": true
   },
   "outputs": [],
   "source": [
    "queries = {}\n",
    "with open('queries.csv') as file:\n",
    "    lines = file.readlines()\n",
    "    for line in lines:\n",
    "        if '\\t' in line:\n",
    "            splits = line.split('\\t')\n",
    "            t = regex.sub(' ', splits[1])\n",
    "            queries[splits[0]] = clean_query(t)"
   ]
  },
  {
   "cell_type": "code",
   "execution_count": 503,
   "metadata": {},
   "outputs": [],
   "source": [
    "article_start = 0\n",
    "article_lines = []\n",
    "\n",
    "query2text = {}\n",
    "\n",
    "lines = []\n",
    "with open('Documents.csv') as docs:\n",
    "    lines = docs.readlines()\n",
    "\n",
    "for i,line in enumerate(lines):\n",
    "    if re.match('.*Id.*\\d', line) is not None and article_start != i:\n",
    "        article_lines = lines[article_start:i]\n",
    "        article_start = i\n",
    "        q_id = line.split()[1]\n",
    "        query2text[q_id] = parse_article_lines(article_lines)"
   ]
  },
  {
   "cell_type": "code",
   "execution_count": 293,
   "metadata": {},
   "outputs": [],
   "source": [
    "from functools import reduce\n",
    "import nltk"
   ]
  },
  {
   "cell_type": "code",
   "execution_count": 294,
   "metadata": {
    "collapsed": true
   },
   "outputs": [],
   "source": [
    "ps = nltk.stem.snowball.SnowballStemmer('english')"
   ]
  },
  {
   "cell_type": "code",
   "execution_count": 295,
   "metadata": {
    "collapsed": true
   },
   "outputs": [],
   "source": [
    "import stop_words"
   ]
  },
  {
   "cell_type": "code",
   "execution_count": 296,
   "metadata": {
    "collapsed": true
   },
   "outputs": [],
   "source": [
    "sw = stop_words.get_stop_words('english')"
   ]
  },
  {
   "cell_type": "code",
   "execution_count": 501,
   "metadata": {
    "collapsed": true
   },
   "outputs": [],
   "source": [
    "def clean_query(tq):\n",
    "    result = \" \"\n",
    "    for w in tq.split():\n",
    "        if w not in sw:\n",
    "            result += ps.stem(w.replace(r'[^a-zA-Z]', '')) + \" \"\n",
    "    return result"
   ]
  },
  {
   "cell_type": "code",
   "execution_count": 500,
   "metadata": {
    "collapsed": true
   },
   "outputs": [],
   "source": [
    "def parse_article_lines(lines):\n",
    "    text_index = 0\n",
    "    for i,l in enumerate(lines):\n",
    "        if '.W' in l:\n",
    "            text_index = i+1\n",
    "    \n",
    "    text_lines = lines[text_index:len(lines)]\n",
    "    text_lines = list(map(lambda l: regex.sub(' ',l), text_lines))\n",
    "    text_lines = list(map(clean_query, text_lines))\n",
    "    return text_lines"
   ]
  },
  {
   "cell_type": "code",
   "execution_count": 475,
   "metadata": {
    "collapsed": true
   },
   "outputs": [],
   "source": [
    "def flat(list_of_list):\n",
    "    result = []\n",
    "    for li in list_of_list:\n",
    "        for el in li:\n",
    "            result.append(el)\n",
    "            \n",
    "    result = list(filter(lambda l:len(line) > 1, result))\n",
    "    \n",
    "    return result"
   ]
  },
  {
   "cell_type": "code",
   "execution_count": 504,
   "metadata": {
    "collapsed": true
   },
   "outputs": [],
   "source": [
    "for k in query2text.keys():\n",
    "    query2text[k] = flat(list(map(lambda l: l.split(), query2text[k])))"
   ]
  },
  {
   "cell_type": "code",
   "execution_count": 505,
   "metadata": {
    "collapsed": true
   },
   "outputs": [],
   "source": [
    "for k in query2text.keys():\n",
    "    query2text[k] = list(filter(lambda l: len(l) > 2, query2text[k]))"
   ]
  },
  {
   "cell_type": "code",
   "execution_count": 506,
   "metadata": {},
   "outputs": [],
   "source": [
    "for k in queries.keys():\n",
    "    queries[k] = queries[k].split()"
   ]
  },
  {
   "cell_type": "code",
   "execution_count": 507,
   "metadata": {},
   "outputs": [],
   "source": [
    "for k in queries.keys():\n",
    "    queries[k] = list(filter(lambda l:len(line) > 2, queries[k]))"
   ]
  },
  {
   "cell_type": "code",
   "execution_count": 121,
   "metadata": {},
   "outputs": [],
   "source": [
    "import gensim"
   ]
  },
  {
   "cell_type": "code",
   "execution_count": 535,
   "metadata": {
    "collapsed": true
   },
   "outputs": [],
   "source": [
    "all_w = list(query2text.values())\n",
    "all_w.append(queries.values())\n"
   ]
  },
  {
   "cell_type": "markdown",
   "metadata": {},
   "source": [
    "\n",
    "model = gensim.models.KeyedVectors.load_word2vec_format('GoogleNews-vectors-negative300.bin', binary=True)  "
   ]
  },
  {
   "cell_type": "markdown",
   "metadata": {},
   "source": [
    "## now prepare model"
   ]
  },
  {
   "cell_type": "code",
   "execution_count": 353,
   "metadata": {
    "collapsed": true
   },
   "outputs": [],
   "source": [
    "model = gensim.models.KeyedVectors.load_word2vec_format('GoogleNews-vectors-negative300.bin', binary=True)  "
   ]
  },
  {
   "cell_type": "code",
   "execution_count": 513,
   "metadata": {},
   "outputs": [],
   "source": [
    "model = gensim.models.Word2Vec(min_count=1,workers=4, hs=1, negative=0)"
   ]
  },
  {
   "cell_type": "code",
   "execution_count": 514,
   "metadata": {},
   "outputs": [],
   "source": [
    "model.build_vocab(flat(all_w))"
   ]
  },
  {
   "cell_type": "code",
   "execution_count": 515,
   "metadata": {},
   "outputs": [],
   "source": [
    "kw = model.wv"
   ]
  },
  {
   "cell_type": "code",
   "execution_count": 523,
   "metadata": {
    "collapsed": true
   },
   "outputs": [],
   "source": [
    "import numpy as np"
   ]
  },
  {
   "cell_type": "markdown",
   "metadata": {},
   "source": [
    "## fix that, i suppose should be some library method or somehow fix vocaulary"
   ]
  },
  {
   "cell_type": "code",
   "execution_count": 528,
   "metadata": {},
   "outputs": [],
   "source": [
    "def get_sen_vector(sen):\n",
    "    v = np.zeros(100)\n",
    "    for w in sen:\n",
    "        try:\n",
    "            word_v = kw[w]\n",
    "            v = np.add(v, word_v)\n",
    "        except KeyError as e:\n",
    "            pass\n",
    "        \n",
    "    return v"
   ]
  },
  {
   "cell_type": "code",
   "execution_count": 521,
   "metadata": {},
   "outputs": [
    {
     "data": {
      "text/plain": [
       "100"
      ]
     },
     "execution_count": 521,
     "metadata": {},
     "output_type": "execute_result"
    }
   ],
   "source": [
    "len(kw['test'])"
   ]
  },
  {
   "cell_type": "markdown",
   "metadata": {},
   "source": [
    "## prepare now pairs doc - request"
   ]
  },
  {
   "cell_type": "code",
   "execution_count": 585,
   "metadata": {},
   "outputs": [],
   "source": [
    "vectors = []\n",
    "labels = []\n",
    "\n",
    "for i in range(1,len(tr_d_id)):\n",
    "    if tr_d_id[i] in query2text and tr_q_id[i] in queries:\n",
    "        labels.append(int(tr_rel[i]))\n",
    "        q_v = get_sen_vector(queries[tr_q_id[i]])\n",
    "        d_v = get_sen_vector(query2text[tr_d_id[i]])\n",
    "        vectors.append(np.hstack([d_v, q_v]))\n",
    "        \n",
    "vectors = np.array(vectors)\n",
    "labels = np.array(labels).reshape(len(labels),1)"
   ]
  },
  {
   "cell_type": "markdown",
   "metadata": {},
   "source": [
    "## prepare classification model"
   ]
  },
  {
   "cell_type": "code",
   "execution_count": 571,
   "metadata": {},
   "outputs": [],
   "source": [
    "import xgboost as xgb\n",
    "from sklearn.model_selection import train_test_split"
   ]
  },
  {
   "cell_type": "code",
   "execution_count": 586,
   "metadata": {
    "collapsed": true
   },
   "outputs": [],
   "source": [
    "trainX, testX, trainY, testY = train_test_split(vectors, labels)"
   ]
  },
  {
   "cell_type": "code",
   "execution_count": 587,
   "metadata": {},
   "outputs": [],
   "source": [
    "dtrain = xgb.DMatrix(trainX, trainY)\n",
    "dtest = xgb.DMatrix(testX, testY)"
   ]
  },
  {
   "cell_type": "code",
   "execution_count": 594,
   "metadata": {},
   "outputs": [],
   "source": [
    "\n",
    "param = {'silent':1, 'objective':'reg:linear' }\n",
    "param['nthread'] = 8\n",
    "param['eval_metric'] = 'rmse'\n",
    "param['eta'] = 0.075\n",
    "param['max_depth'] = 12\n",
    "param['silent'] = 1\n",
    "param['n_estimators'] = 400\n",
    "param['early_stopping_rounds'] = 30\n",
    "\n",
    "watchlist = [ (dtrain,'train'), (dtest, 'test') ]"
   ]
  },
  {
   "cell_type": "code",
   "execution_count": 595,
   "metadata": {},
   "outputs": [
    {
     "name": "stdout",
     "output_type": "stream",
     "text": [
      "[0]\ttrain-rmse:2.19522\ttest-rmse:2.3074\n",
      "[25]\ttrain-rmse:0.418375\ttest-rmse:1.59439\n",
      "[50]\ttrain-rmse:0.088585\ttest-rmse:1.5616\n",
      "[75]\ttrain-rmse:0.021808\ttest-rmse:1.55501\n",
      "[100]\ttrain-rmse:0.006261\ttest-rmse:1.55418\n",
      "[125]\ttrain-rmse:0.002079\ttest-rmse:1.55376\n",
      "[150]\ttrain-rmse:0.000752\ttest-rmse:1.55354\n",
      "[175]\ttrain-rmse:0.000518\ttest-rmse:1.5535\n",
      "[200]\ttrain-rmse:0.000518\ttest-rmse:1.5535\n",
      "[225]\ttrain-rmse:0.000518\ttest-rmse:1.5535\n",
      "[250]\ttrain-rmse:0.000518\ttest-rmse:1.5535\n",
      "[275]\ttrain-rmse:0.000518\ttest-rmse:1.5535\n",
      "[300]\ttrain-rmse:0.000518\ttest-rmse:1.5535\n",
      "[325]\ttrain-rmse:0.000518\ttest-rmse:1.5535\n",
      "[350]\ttrain-rmse:0.000518\ttest-rmse:1.5535\n",
      "[375]\ttrain-rmse:0.000518\ttest-rmse:1.5535\n",
      "[400]\ttrain-rmse:0.000518\ttest-rmse:1.5535\n",
      "[425]\ttrain-rmse:0.000518\ttest-rmse:1.5535\n",
      "[450]\ttrain-rmse:0.000518\ttest-rmse:1.5535\n",
      "[475]\ttrain-rmse:0.000518\ttest-rmse:1.5535\n",
      "[500]\ttrain-rmse:0.000518\ttest-rmse:1.5535\n",
      "[525]\ttrain-rmse:0.000518\ttest-rmse:1.5535\n",
      "[550]\ttrain-rmse:0.000518\ttest-rmse:1.5535\n",
      "[575]\ttrain-rmse:0.000518\ttest-rmse:1.5535\n",
      "[600]\ttrain-rmse:0.000518\ttest-rmse:1.5535\n",
      "[625]\ttrain-rmse:0.000518\ttest-rmse:1.5535\n",
      "[650]\ttrain-rmse:0.000518\ttest-rmse:1.5535\n",
      "[675]\ttrain-rmse:0.000518\ttest-rmse:1.5535\n",
      "[700]\ttrain-rmse:0.000518\ttest-rmse:1.5535\n",
      "[725]\ttrain-rmse:0.000518\ttest-rmse:1.5535\n",
      "[750]\ttrain-rmse:0.000518\ttest-rmse:1.5535\n",
      "[775]\ttrain-rmse:0.000518\ttest-rmse:1.5535\n",
      "[800]\ttrain-rmse:0.000518\ttest-rmse:1.5535\n",
      "[825]\ttrain-rmse:0.000518\ttest-rmse:1.5535\n",
      "[850]\ttrain-rmse:0.000518\ttest-rmse:1.5535\n",
      "[875]\ttrain-rmse:0.000518\ttest-rmse:1.5535\n",
      "[900]\ttrain-rmse:0.000518\ttest-rmse:1.5535\n",
      "[925]\ttrain-rmse:0.000518\ttest-rmse:1.5535\n",
      "[950]\ttrain-rmse:0.000518\ttest-rmse:1.5535\n",
      "[975]\ttrain-rmse:0.000518\ttest-rmse:1.5535\n",
      "[1000]\ttrain-rmse:0.000518\ttest-rmse:1.5535\n",
      "[1025]\ttrain-rmse:0.000518\ttest-rmse:1.5535\n",
      "[1050]\ttrain-rmse:0.000518\ttest-rmse:1.5535\n",
      "[1075]\ttrain-rmse:0.000518\ttest-rmse:1.5535\n",
      "[1100]\ttrain-rmse:0.000518\ttest-rmse:1.5535\n",
      "[1125]\ttrain-rmse:0.000518\ttest-rmse:1.5535\n",
      "[1150]\ttrain-rmse:0.000518\ttest-rmse:1.5535\n",
      "[1175]\ttrain-rmse:0.000518\ttest-rmse:1.5535\n",
      "[1200]\ttrain-rmse:0.000518\ttest-rmse:1.5535\n",
      "[1225]\ttrain-rmse:0.000518\ttest-rmse:1.5535\n",
      "[1250]\ttrain-rmse:0.000518\ttest-rmse:1.5535\n",
      "[1275]\ttrain-rmse:0.000518\ttest-rmse:1.5535\n",
      "[1300]\ttrain-rmse:0.000518\ttest-rmse:1.5535\n",
      "[1325]\ttrain-rmse:0.000518\ttest-rmse:1.5535\n",
      "[1350]\ttrain-rmse:0.000518\ttest-rmse:1.5535\n",
      "[1375]\ttrain-rmse:0.000518\ttest-rmse:1.5535\n",
      "[1400]\ttrain-rmse:0.000518\ttest-rmse:1.5535\n",
      "[1425]\ttrain-rmse:0.000518\ttest-rmse:1.5535\n",
      "[1450]\ttrain-rmse:0.000518\ttest-rmse:1.5535\n",
      "[1475]\ttrain-rmse:0.000518\ttest-rmse:1.5535\n"
     ]
    }
   ],
   "source": [
    "bst = xgb.train(param, dtrain, 1500, watchlist,verbose_eval=25)"
   ]
  },
  {
   "cell_type": "code",
   "execution_count": 624,
   "metadata": {},
   "outputs": [],
   "source": [
    "result = []\n",
    "test_q = []\n",
    "test_d = []\n",
    "for i,row in rel_test.iterrows():\n",
    "    q_id = str(row['QueryId'])\n",
    "    d_id = str(row['DocumentId'])\n",
    "\n",
    "    test_q.append(q_id)\n",
    "    test_d.append(d_id)\n",
    "    \n",
    "    if q_id in queries and d_id in query2text:\n",
    "        d_vec = get_sen_vector(query2text[d_id])\n",
    "        q_vec = get_sen_vector(queries[q_id])\n",
    "        vec = np.hstack([d_vec, q_vec]).reshape(1,200)\n",
    "        m = xgb.DMatrix(vec)\n",
    "        pred = bst.predict(m)\n",
    "        result.append(pred)\n",
    "    else:\n",
    "        pass\n",
    "        #print('no doc at',q_id, d_id)"
   ]
  },
  {
   "cell_type": "code",
   "execution_count": 637,
   "metadata": {},
   "outputs": [],
   "source": [
    "tup = zip((result, test_q, test_d))"
   ]
  },
  {
   "cell_type": "code",
   "execution_count": 644,
   "metadata": {},
   "outputs": [],
   "source": [
    "output = pd.DataFrame(sorted(zip(result, test_q, test_d), key=lambda e:e[0]))"
   ]
  },
  {
   "cell_type": "code",
   "execution_count": 663,
   "metadata": {},
   "outputs": [],
   "source": [
    "groupOut = output.groupby(1, as_index=False).count()"
   ]
  },
  {
   "cell_type": "code",
   "execution_count": 666,
   "metadata": {},
   "outputs": [
    {
     "data": {
      "text/html": [
       "<div>\n",
       "<style>\n",
       "    .dataframe thead tr:only-child th {\n",
       "        text-align: right;\n",
       "    }\n",
       "\n",
       "    .dataframe thead th {\n",
       "        text-align: left;\n",
       "    }\n",
       "\n",
       "    .dataframe tbody tr th {\n",
       "        vertical-align: top;\n",
       "    }\n",
       "</style>\n",
       "<table border=\"1\" class=\"dataframe\">\n",
       "  <thead>\n",
       "    <tr style=\"text-align: right;\">\n",
       "      <th></th>\n",
       "      <th>0</th>\n",
       "      <th>1</th>\n",
       "      <th>2</th>\n",
       "    </tr>\n",
       "  </thead>\n",
       "  <tbody>\n",
       "    <tr>\n",
       "      <th>0</th>\n",
       "      <td>-0.736579</td>\n",
       "      <td>161</td>\n",
       "      <td>996</td>\n",
       "    </tr>\n",
       "    <tr>\n",
       "      <th>1</th>\n",
       "      <td>-0.430663</td>\n",
       "      <td>127</td>\n",
       "      <td>982</td>\n",
       "    </tr>\n",
       "    <tr>\n",
       "      <th>2</th>\n",
       "      <td>-0.285791</td>\n",
       "      <td>175</td>\n",
       "      <td>941</td>\n",
       "    </tr>\n",
       "    <tr>\n",
       "      <th>3</th>\n",
       "      <td>-0.034289</td>\n",
       "      <td>131</td>\n",
       "      <td>1016</td>\n",
       "    </tr>\n",
       "    <tr>\n",
       "      <th>4</th>\n",
       "      <td>0.033303</td>\n",
       "      <td>180</td>\n",
       "      <td>620</td>\n",
       "    </tr>\n",
       "    <tr>\n",
       "      <th>5</th>\n",
       "      <td>0.044976</td>\n",
       "      <td>157</td>\n",
       "      <td>1304</td>\n",
       "    </tr>\n",
       "    <tr>\n",
       "      <th>6</th>\n",
       "      <td>0.159862</td>\n",
       "      <td>191</td>\n",
       "      <td>948</td>\n",
       "    </tr>\n",
       "    <tr>\n",
       "      <th>7</th>\n",
       "      <td>0.206981</td>\n",
       "      <td>159</td>\n",
       "      <td>1115</td>\n",
       "    </tr>\n",
       "    <tr>\n",
       "      <th>8</th>\n",
       "      <td>0.264965</td>\n",
       "      <td>140</td>\n",
       "      <td>954</td>\n",
       "    </tr>\n",
       "    <tr>\n",
       "      <th>9</th>\n",
       "      <td>0.349755</td>\n",
       "      <td>140</td>\n",
       "      <td>1041</td>\n",
       "    </tr>\n",
       "    <tr>\n",
       "      <th>10</th>\n",
       "      <td>0.350027</td>\n",
       "      <td>184</td>\n",
       "      <td>67</td>\n",
       "    </tr>\n",
       "    <tr>\n",
       "      <th>11</th>\n",
       "      <td>0.356543</td>\n",
       "      <td>193</td>\n",
       "      <td>422</td>\n",
       "    </tr>\n",
       "    <tr>\n",
       "      <th>12</th>\n",
       "      <td>0.364823</td>\n",
       "      <td>189</td>\n",
       "      <td>767</td>\n",
       "    </tr>\n",
       "    <tr>\n",
       "      <th>13</th>\n",
       "      <td>0.366818</td>\n",
       "      <td>157</td>\n",
       "      <td>215</td>\n",
       "    </tr>\n",
       "    <tr>\n",
       "      <th>14</th>\n",
       "      <td>0.368833</td>\n",
       "      <td>183</td>\n",
       "      <td>811</td>\n",
       "    </tr>\n",
       "    <tr>\n",
       "      <th>15</th>\n",
       "      <td>0.388185</td>\n",
       "      <td>157</td>\n",
       "      <td>302</td>\n",
       "    </tr>\n",
       "    <tr>\n",
       "      <th>16</th>\n",
       "      <td>0.443227</td>\n",
       "      <td>157</td>\n",
       "      <td>572</td>\n",
       "    </tr>\n",
       "    <tr>\n",
       "      <th>17</th>\n",
       "      <td>0.449462</td>\n",
       "      <td>153</td>\n",
       "      <td>1080</td>\n",
       "    </tr>\n",
       "    <tr>\n",
       "      <th>18</th>\n",
       "      <td>0.515756</td>\n",
       "      <td>157</td>\n",
       "      <td>1006</td>\n",
       "    </tr>\n",
       "    <tr>\n",
       "      <th>19</th>\n",
       "      <td>0.563902</td>\n",
       "      <td>156</td>\n",
       "      <td>1104</td>\n",
       "    </tr>\n",
       "    <tr>\n",
       "      <th>20</th>\n",
       "      <td>0.582921</td>\n",
       "      <td>136</td>\n",
       "      <td>1034</td>\n",
       "    </tr>\n",
       "    <tr>\n",
       "      <th>21</th>\n",
       "      <td>0.635448</td>\n",
       "      <td>178</td>\n",
       "      <td>591</td>\n",
       "    </tr>\n",
       "    <tr>\n",
       "      <th>22</th>\n",
       "      <td>0.644606</td>\n",
       "      <td>153</td>\n",
       "      <td>1081</td>\n",
       "    </tr>\n",
       "    <tr>\n",
       "      <th>23</th>\n",
       "      <td>0.665776</td>\n",
       "      <td>201</td>\n",
       "      <td>1295</td>\n",
       "    </tr>\n",
       "    <tr>\n",
       "      <th>24</th>\n",
       "      <td>0.675333</td>\n",
       "      <td>132</td>\n",
       "      <td>1013</td>\n",
       "    </tr>\n",
       "    <tr>\n",
       "      <th>25</th>\n",
       "      <td>0.695286</td>\n",
       "      <td>131</td>\n",
       "      <td>950</td>\n",
       "    </tr>\n",
       "    <tr>\n",
       "      <th>26</th>\n",
       "      <td>0.698443</td>\n",
       "      <td>157</td>\n",
       "      <td>556</td>\n",
       "    </tr>\n",
       "    <tr>\n",
       "      <th>27</th>\n",
       "      <td>0.722799</td>\n",
       "      <td>137</td>\n",
       "      <td>952</td>\n",
       "    </tr>\n",
       "    <tr>\n",
       "      <th>28</th>\n",
       "      <td>0.729350</td>\n",
       "      <td>158</td>\n",
       "      <td>1011</td>\n",
       "    </tr>\n",
       "    <tr>\n",
       "      <th>29</th>\n",
       "      <td>0.732398</td>\n",
       "      <td>157</td>\n",
       "      <td>1107</td>\n",
       "    </tr>\n",
       "    <tr>\n",
       "      <th>...</th>\n",
       "      <td>...</td>\n",
       "      <td>...</td>\n",
       "      <td>...</td>\n",
       "    </tr>\n",
       "    <tr>\n",
       "      <th>579</th>\n",
       "      <td>2.998868</td>\n",
       "      <td>169</td>\n",
       "      <td>157</td>\n",
       "    </tr>\n",
       "    <tr>\n",
       "      <th>580</th>\n",
       "      <td>2.999613</td>\n",
       "      <td>193</td>\n",
       "      <td>641</td>\n",
       "    </tr>\n",
       "    <tr>\n",
       "      <th>581</th>\n",
       "      <td>3.000580</td>\n",
       "      <td>132</td>\n",
       "      <td>1019</td>\n",
       "    </tr>\n",
       "    <tr>\n",
       "      <th>582</th>\n",
       "      <td>3.011645</td>\n",
       "      <td>189</td>\n",
       "      <td>872</td>\n",
       "    </tr>\n",
       "    <tr>\n",
       "      <th>583</th>\n",
       "      <td>3.015178</td>\n",
       "      <td>181</td>\n",
       "      <td>942</td>\n",
       "    </tr>\n",
       "    <tr>\n",
       "      <th>584</th>\n",
       "      <td>3.023403</td>\n",
       "      <td>195</td>\n",
       "      <td>642</td>\n",
       "    </tr>\n",
       "    <tr>\n",
       "      <th>585</th>\n",
       "      <td>3.024111</td>\n",
       "      <td>185</td>\n",
       "      <td>15</td>\n",
       "    </tr>\n",
       "    <tr>\n",
       "      <th>586</th>\n",
       "      <td>3.039383</td>\n",
       "      <td>182</td>\n",
       "      <td>634</td>\n",
       "    </tr>\n",
       "    <tr>\n",
       "      <th>587</th>\n",
       "      <td>3.048765</td>\n",
       "      <td>157</td>\n",
       "      <td>655</td>\n",
       "    </tr>\n",
       "    <tr>\n",
       "      <th>588</th>\n",
       "      <td>3.069975</td>\n",
       "      <td>147</td>\n",
       "      <td>956</td>\n",
       "    </tr>\n",
       "    <tr>\n",
       "      <th>589</th>\n",
       "      <td>3.082370</td>\n",
       "      <td>186</td>\n",
       "      <td>923</td>\n",
       "    </tr>\n",
       "    <tr>\n",
       "      <th>590</th>\n",
       "      <td>3.139161</td>\n",
       "      <td>166</td>\n",
       "      <td>272</td>\n",
       "    </tr>\n",
       "    <tr>\n",
       "      <th>591</th>\n",
       "      <td>3.148118</td>\n",
       "      <td>161</td>\n",
       "      <td>55</td>\n",
       "    </tr>\n",
       "    <tr>\n",
       "      <th>592</th>\n",
       "      <td>3.175957</td>\n",
       "      <td>181</td>\n",
       "      <td>973</td>\n",
       "    </tr>\n",
       "    <tr>\n",
       "      <th>593</th>\n",
       "      <td>3.178261</td>\n",
       "      <td>194</td>\n",
       "      <td>744</td>\n",
       "    </tr>\n",
       "    <tr>\n",
       "      <th>594</th>\n",
       "      <td>3.180590</td>\n",
       "      <td>157</td>\n",
       "      <td>666</td>\n",
       "    </tr>\n",
       "    <tr>\n",
       "      <th>595</th>\n",
       "      <td>3.186230</td>\n",
       "      <td>157</td>\n",
       "      <td>35</td>\n",
       "    </tr>\n",
       "    <tr>\n",
       "      <th>596</th>\n",
       "      <td>3.191160</td>\n",
       "      <td>135</td>\n",
       "      <td>1017</td>\n",
       "    </tr>\n",
       "    <tr>\n",
       "      <th>597</th>\n",
       "      <td>3.272046</td>\n",
       "      <td>146</td>\n",
       "      <td>955</td>\n",
       "    </tr>\n",
       "    <tr>\n",
       "      <th>598</th>\n",
       "      <td>3.291554</td>\n",
       "      <td>183</td>\n",
       "      <td>806</td>\n",
       "    </tr>\n",
       "    <tr>\n",
       "      <th>599</th>\n",
       "      <td>3.310156</td>\n",
       "      <td>203</td>\n",
       "      <td>1285</td>\n",
       "    </tr>\n",
       "    <tr>\n",
       "      <th>600</th>\n",
       "      <td>3.320528</td>\n",
       "      <td>185</td>\n",
       "      <td>1008</td>\n",
       "    </tr>\n",
       "    <tr>\n",
       "      <th>601</th>\n",
       "      <td>3.322603</td>\n",
       "      <td>192</td>\n",
       "      <td>641</td>\n",
       "    </tr>\n",
       "    <tr>\n",
       "      <th>602</th>\n",
       "      <td>3.341976</td>\n",
       "      <td>144</td>\n",
       "      <td>763</td>\n",
       "    </tr>\n",
       "    <tr>\n",
       "      <th>603</th>\n",
       "      <td>3.358679</td>\n",
       "      <td>147</td>\n",
       "      <td>889</td>\n",
       "    </tr>\n",
       "    <tr>\n",
       "      <th>604</th>\n",
       "      <td>3.375389</td>\n",
       "      <td>177</td>\n",
       "      <td>772</td>\n",
       "    </tr>\n",
       "    <tr>\n",
       "      <th>605</th>\n",
       "      <td>3.394377</td>\n",
       "      <td>194</td>\n",
       "      <td>642</td>\n",
       "    </tr>\n",
       "    <tr>\n",
       "      <th>606</th>\n",
       "      <td>3.463826</td>\n",
       "      <td>202</td>\n",
       "      <td>1303</td>\n",
       "    </tr>\n",
       "    <tr>\n",
       "      <th>607</th>\n",
       "      <td>3.484028</td>\n",
       "      <td>157</td>\n",
       "      <td>25</td>\n",
       "    </tr>\n",
       "    <tr>\n",
       "      <th>608</th>\n",
       "      <td>3.523962</td>\n",
       "      <td>180</td>\n",
       "      <td>1150</td>\n",
       "    </tr>\n",
       "  </tbody>\n",
       "</table>\n",
       "<p>609 rows × 3 columns</p>\n",
       "</div>"
      ],
      "text/plain": [
       "            0    1     2\n",
       "0   -0.736579  161   996\n",
       "1   -0.430663  127   982\n",
       "2   -0.285791  175   941\n",
       "3   -0.034289  131  1016\n",
       "4    0.033303  180   620\n",
       "5    0.044976  157  1304\n",
       "6    0.159862  191   948\n",
       "7    0.206981  159  1115\n",
       "8    0.264965  140   954\n",
       "9    0.349755  140  1041\n",
       "10   0.350027  184    67\n",
       "11   0.356543  193   422\n",
       "12   0.364823  189   767\n",
       "13   0.366818  157   215\n",
       "14   0.368833  183   811\n",
       "15   0.388185  157   302\n",
       "16   0.443227  157   572\n",
       "17   0.449462  153  1080\n",
       "18   0.515756  157  1006\n",
       "19   0.563902  156  1104\n",
       "20   0.582921  136  1034\n",
       "21   0.635448  178   591\n",
       "22   0.644606  153  1081\n",
       "23   0.665776  201  1295\n",
       "24   0.675333  132  1013\n",
       "25   0.695286  131   950\n",
       "26   0.698443  157   556\n",
       "27   0.722799  137   952\n",
       "28   0.729350  158  1011\n",
       "29   0.732398  157  1107\n",
       "..        ...  ...   ...\n",
       "579  2.998868  169   157\n",
       "580  2.999613  193   641\n",
       "581  3.000580  132  1019\n",
       "582  3.011645  189   872\n",
       "583  3.015178  181   942\n",
       "584  3.023403  195   642\n",
       "585  3.024111  185    15\n",
       "586  3.039383  182   634\n",
       "587  3.048765  157   655\n",
       "588  3.069975  147   956\n",
       "589  3.082370  186   923\n",
       "590  3.139161  166   272\n",
       "591  3.148118  161    55\n",
       "592  3.175957  181   973\n",
       "593  3.178261  194   744\n",
       "594  3.180590  157   666\n",
       "595  3.186230  157    35\n",
       "596  3.191160  135  1017\n",
       "597  3.272046  146   955\n",
       "598  3.291554  183   806\n",
       "599  3.310156  203  1285\n",
       "600  3.320528  185  1008\n",
       "601  3.322603  192   641\n",
       "602  3.341976  144   763\n",
       "603  3.358679  147   889\n",
       "604  3.375389  177   772\n",
       "605  3.394377  194   642\n",
       "606  3.463826  202  1303\n",
       "607  3.484028  157    25\n",
       "608  3.523962  180  1150\n",
       "\n",
       "[609 rows x 3 columns]"
      ]
     },
     "execution_count": 666,
     "metadata": {},
     "output_type": "execute_result"
    }
   ],
   "source": [
    "output"
   ]
  },
  {
   "cell_type": "code",
   "execution_count": 670,
   "metadata": {},
   "outputs": [],
   "source": [
    "output.to_csv(path_or_buf='pred.csv', columns=(1,2), header=('QueryId','DocumentId'), index=False)"
   ]
  }
 ],
 "metadata": {
  "kernelspec": {
   "display_name": "Python 3",
   "language": "python",
   "name": "python3"
  },
  "language_info": {
   "codemirror_mode": {
    "name": "ipython",
    "version": 3
   },
   "file_extension": ".py",
   "mimetype": "text/x-python",
   "name": "python",
   "nbconvert_exporter": "python",
   "pygments_lexer": "ipython3",
   "version": "3.6.1"
  }
 },
 "nbformat": 4,
 "nbformat_minor": 2
}
