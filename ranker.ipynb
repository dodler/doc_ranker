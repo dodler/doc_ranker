{
 "cells": [
  {
   "cell_type": "code",
   "execution_count": 67,
   "metadata": {
    "collapsed": true
   },
   "outputs": [],
   "source": [
    "import pandas as pd\n",
    "import re\n",
    "import numpy as np\n",
    "\n",
    "from functools import reduce\n",
    "import nltk"
   ]
  },
  {
   "cell_type": "code",
   "execution_count": 29,
   "metadata": {
    "collapsed": true
   },
   "outputs": [],
   "source": [
    "import stop_words"
   ]
  },
  {
   "cell_type": "code",
   "execution_count": 60,
   "metadata": {
    "collapsed": true
   },
   "outputs": [],
   "source": [
    "import gensim\n",
    "from gensim.models.doc2vec import LabeledSentence"
   ]
  },
  {
   "cell_type": "code",
   "execution_count": 181,
   "metadata": {
    "collapsed": true
   },
   "outputs": [],
   "source": [
    "import math"
   ]
  },
  {
   "cell_type": "code",
   "execution_count": 177,
   "metadata": {
    "collapsed": true
   },
   "outputs": [],
   "source": [
    "import random"
   ]
  },
  {
   "cell_type": "markdown",
   "metadata": {},
   "source": [
    "## for cleanup"
   ]
  },
  {
   "cell_type": "code",
   "execution_count": 28,
   "metadata": {
    "collapsed": true
   },
   "outputs": [],
   "source": [
    "ps = nltk.stem.snowball.SnowballStemmer('english')"
   ]
  },
  {
   "cell_type": "code",
   "execution_count": 30,
   "metadata": {
    "collapsed": true
   },
   "outputs": [],
   "source": [
    "sw = stop_words.get_stop_words('english')"
   ]
  },
  {
   "cell_type": "code",
   "execution_count": 39,
   "metadata": {},
   "outputs": [
    {
     "data": {
      "text/plain": [
       "'abdE'"
      ]
     },
     "execution_count": 39,
     "metadata": {},
     "output_type": "execute_result"
    }
   ],
   "source": [
    "regex = re.compile('[^a-zA-Z]')\n",
    "#First parameter is the replacement, second parameter is your input string\n",
    "regex.sub('', 'ab3d*E')"
   ]
  },
  {
   "cell_type": "code",
   "execution_count": 93,
   "metadata": {
    "collapsed": true
   },
   "outputs": [],
   "source": [
    "def clean_query(tq):\n",
    "    result = \" \"\n",
    "    t = regex.sub(' ',tq)\n",
    "    for w in t.split():\n",
    "        if w not in sw:\n",
    "            result += ps.stem(w.replace(r'[^a-zA-Z]', '')) + \" \"\n",
    "    return result"
   ]
  },
  {
   "cell_type": "code",
   "execution_count": 95,
   "metadata": {
    "collapsed": true
   },
   "outputs": [],
   "source": [
    "def prepare_query(tq):\n",
    "    result = \" \"\n",
    "    t = regex.sub(' ',tq)\n",
    "    for w in t.split():\n",
    "        if w not in sw:\n",
    "            result += ps.stem(w.replace(r'[^a-zA-Z]', '')) + \" \"\n",
    "    return result.split()"
   ]
  },
  {
   "cell_type": "markdown",
   "metadata": {},
   "source": [
    "## prepare data"
   ]
  },
  {
   "cell_type": "code",
   "execution_count": 33,
   "metadata": {
    "collapsed": true
   },
   "outputs": [],
   "source": [
    "class Doc:\n",
    "    def __init__(self, title, author, text_lines):\n",
    "        self.title = title\n",
    "        self.author=author\n",
    "        self.text = flat(list(map(lambda l: regex.sub(' ',l).split(), text_lines)))"
   ]
  },
  {
   "cell_type": "code",
   "execution_count": 38,
   "metadata": {
    "collapsed": true
   },
   "outputs": [],
   "source": [
    "def flat(list_of_list):\n",
    "    result = []\n",
    "    for li in list_of_list:\n",
    "        for el in li:\n",
    "            result.append(el)\n",
    "            \n",
    "    result = list(filter(lambda l:len(line) > 1, result))\n",
    "    \n",
    "    return result"
   ]
  },
  {
   "cell_type": "code",
   "execution_count": 36,
   "metadata": {
    "collapsed": true
   },
   "outputs": [],
   "source": [
    "def parse_article_lines(lines):\n",
    "    text_index = 0\n",
    "    \n",
    "    l_s_i = 0\n",
    "    l_e_i = 0 # label_{start-end}_index\n",
    "    \n",
    "    for i,l in enumerate(lines):\n",
    "        if '.T' in l:\n",
    "            l_s_i = i+1\n",
    "        \n",
    "        if '.A' in l:\n",
    "            l_e_i = i\n",
    "        \n",
    "        if '.W' in l:\n",
    "            text_index = i+1\n",
    "    \n",
    "    author = lines[l_e_i+1]\n",
    "    \n",
    "    return Doc(lines[l_s_i:l_e_i], author, lines[text_index:len(lines)])"
   ]
  },
  {
   "cell_type": "code",
   "execution_count": 237,
   "metadata": {},
   "outputs": [],
   "source": [
    "article_start = 0\n",
    "article_lines = []\n",
    "\n",
    "docs = {}\n",
    "\n",
    "lines = []\n",
    "with open('Documents.csv') as file:\n",
    "    lines = file.readlines()\n",
    "\n",
    "for i,line in enumerate(lines):\n",
    "    if 'Id' in line and len(line) < 12 and article_start != i:\n",
    "        article_lines = lines[article_start:i]\n",
    "        article_start = i\n",
    "        \n",
    "        q_id = line.split()[1]\n",
    "        docs[q_id] = parse_article_lines(article_lines)\n",
    "    "
   ]
  },
  {
   "cell_type": "code",
   "execution_count": 44,
   "metadata": {},
   "outputs": [],
   "source": [
    "rel_train = pd.read_csv('relevance_train.csv', sep=',', lineterminator='\\n')\n",
    "rel_test = pd.read_csv('relevance_test.csv')\n",
    "queries = pd.read_csv('queries.csv', sep='|',lineterminator='\\n')"
   ]
  },
  {
   "cell_type": "code",
   "execution_count": 61,
   "metadata": {
    "collapsed": true
   },
   "outputs": [],
   "source": [
    "def doc2labeled_sentence(doc):\n",
    "    return LabeledSentence(words=doc.text, tags=doc.title)"
   ]
  },
  {
   "cell_type": "code",
   "execution_count": 63,
   "metadata": {},
   "outputs": [],
   "source": [
    "ls = list(map(doc2labeled_sentence, docs.values()))"
   ]
  },
  {
   "cell_type": "markdown",
   "metadata": {},
   "source": [
    "## now prepare model"
   ]
  },
  {
   "cell_type": "code",
   "execution_count": 353,
   "metadata": {
    "collapsed": true
   },
   "outputs": [],
   "source": [
    "model = gensim.models.KeyedVectors.load_word2vec_format('GoogleNews-vectors-negative300.bin', binary=True)  "
   ]
  },
  {
   "cell_type": "code",
   "execution_count": 80,
   "metadata": {
    "collapsed": true
   },
   "outputs": [],
   "source": [
    "model = gensim.models.Word2Vec(min_count=1,workers=4, hs=1, negative=0)"
   ]
  },
  {
   "cell_type": "code",
   "execution_count": 189,
   "metadata": {
    "collapsed": true
   },
   "outputs": [],
   "source": [
    "SIZE = 50"
   ]
  },
  {
   "cell_type": "code",
   "execution_count": 190,
   "metadata": {
    "collapsed": true
   },
   "outputs": [],
   "source": [
    "model = gensim.models.Doc2Vec(size=SIZE, min_count=1, workers=4, hs=1, negative=0)"
   ]
  },
  {
   "cell_type": "code",
   "execution_count": 191,
   "metadata": {
    "collapsed": true
   },
   "outputs": [],
   "source": [
    "model.build_vocab(ls)"
   ]
  },
  {
   "cell_type": "code",
   "execution_count": 192,
   "metadata": {
    "collapsed": true
   },
   "outputs": [],
   "source": [
    "kw = model.wv"
   ]
  },
  {
   "cell_type": "markdown",
   "metadata": {},
   "source": [
    "## fix that, i suppose should be some library method or somehow fix vocaulary"
   ]
  },
  {
   "cell_type": "code",
   "execution_count": 291,
   "metadata": {
    "collapsed": true
   },
   "outputs": [],
   "source": [
    "def get_sen_vector(sen):\n",
    "    v = np.zeros(SIZE)\n",
    "    for w in sen:\n",
    "        try:\n",
    "            v = np.add(v, kw[w])\n",
    "        except ValueError as e:\n",
    "            pass\n",
    "        except KeyError as e:\n",
    "            pass\n",
    "        \n",
    "    return v / SIZE"
   ]
  },
  {
   "cell_type": "markdown",
   "metadata": {},
   "source": [
    "## prepare now pairs doc - request"
   ]
  },
  {
   "cell_type": "code",
   "execution_count": 194,
   "metadata": {},
   "outputs": [],
   "source": [
    "vectors = []\n",
    "labels = []\n",
    "\n",
    "for row in rel_train.iterrows():\n",
    "    qid = row[1][0]\n",
    "    did = row[1][1]\n",
    "    rel = row[1][2]\n",
    "    \n",
    "    if str(did) in docs and qid in queries['QueryId']:\n",
    "            labels.append(rel)\n",
    "            q_v = get_sen_vector(queries[queries['QueryId']==qid])\n",
    "            d_v = get_sen_vector(docs[str(did)].text)\n",
    "            vectors.append(np.hstack([d_v, q_v]))\n",
    "        \n",
    "vectors = np.array(vectors)\n",
    "labels = np.array(labels).reshape(len(labels),1)"
   ]
  },
  {
   "cell_type": "markdown",
   "metadata": {},
   "source": [
    "## metrics"
   ]
  },
  {
   "cell_type": "code",
   "execution_count": 196,
   "metadata": {
    "collapsed": true
   },
   "outputs": [],
   "source": [
    "def dcg(rels,p):\n",
    "    s = 0.0\n",
    "    for i in range(0,p):\n",
    "        rel = rels[i]\n",
    "        s += (pow(rel,2)-1) / (math.log(i+1,2)+1)\n",
    "        \n",
    "    return s"
   ]
  },
  {
   "cell_type": "code",
   "execution_count": 197,
   "metadata": {
    "collapsed": true
   },
   "outputs": [],
   "source": [
    "def ndcg(ideal, rel, p):\n",
    "    return dcg(rel,p) / dcg(ideal,len(ideal))"
   ]
  },
  {
   "cell_type": "markdown",
   "metadata": {},
   "source": [
    "## prepare classification model"
   ]
  },
  {
   "cell_type": "code",
   "execution_count": 166,
   "metadata": {},
   "outputs": [
    {
     "name": "stderr",
     "output_type": "stream",
     "text": [
      "/home/dev/anaconda3/lib/python3.6/site-packages/sklearn/cross_validation.py:44: DeprecationWarning: This module was deprecated in version 0.18 in favor of the model_selection module into which all the refactored classes and functions are moved. Also note that the interface of the new CV iterators are different from that of this module. This module will be removed in 0.20.\n",
      "  \"This module will be removed in 0.20.\", DeprecationWarning)\n"
     ]
    }
   ],
   "source": [
    "import xgboost as xgb\n",
    "from sklearn.model_selection import train_test_split"
   ]
  },
  {
   "cell_type": "code",
   "execution_count": 198,
   "metadata": {
    "collapsed": true
   },
   "outputs": [],
   "source": [
    "trainX, testX, trainY, testY = train_test_split(vectors, labels)"
   ]
  },
  {
   "cell_type": "code",
   "execution_count": 199,
   "metadata": {
    "collapsed": true
   },
   "outputs": [],
   "source": [
    "dtrain = xgb.DMatrix(trainX, trainY)\n",
    "dtest = xgb.DMatrix(testX, testY)"
   ]
  },
  {
   "cell_type": "code",
   "execution_count": 200,
   "metadata": {
    "collapsed": true
   },
   "outputs": [],
   "source": [
    "\n",
    "param = {'silent':1, 'objective':'reg:linear' }\n",
    "param['nthread'] = 8\n",
    "param['eval_metric'] = 'ndcg'\n",
    "param['eta'] = 0.075\n",
    "param['max_depth'] = 5\n",
    "param['silent'] = 1\n",
    "param['n_estimators'] = 1000\n",
    "param['early_stopping_rounds'] = 30\n",
    "\n",
    "watchlist = [ (dtrain,'train'), (dtest, 'test') ]"
   ]
  },
  {
   "cell_type": "code",
   "execution_count": 201,
   "metadata": {},
   "outputs": [
    {
     "name": "stdout",
     "output_type": "stream",
     "text": [
      "[0]\ttrain-:0.543997\ttest-:0.540333\n",
      "[100]\ttrain-:0.496985\ttest-:0.490111\n",
      "[200]\ttrain-:0.495376\ttest-:0.487092\n",
      "[300]\ttrain-:0.495098\ttest-:0.482758\n",
      "[400]\ttrain-:0.494968\ttest-:0.488049\n"
     ]
    }
   ],
   "source": [
    "bst = xgb.train(param, dtrain, 500, watchlist,verbose_eval=100)"
   ]
  },
  {
   "cell_type": "code",
   "execution_count": 202,
   "metadata": {
    "collapsed": true
   },
   "outputs": [],
   "source": [
    "pred = bst.predict(dtest)"
   ]
  },
  {
   "cell_type": "code",
   "execution_count": 207,
   "metadata": {},
   "outputs": [
    {
     "data": {
      "text/plain": [
       "array([ 0.12684762])"
      ]
     },
     "execution_count": 207,
     "metadata": {},
     "output_type": "execute_result"
    }
   ],
   "source": [
    "ndcg(testY, pred, 20)"
   ]
  },
  {
   "cell_type": "markdown",
   "metadata": {},
   "source": [
    "## linear model"
   ]
  },
  {
   "cell_type": "code",
   "execution_count": 209,
   "metadata": {
    "collapsed": true
   },
   "outputs": [],
   "source": [
    "from sklearn.linear_model import LinearRegression"
   ]
  },
  {
   "cell_type": "code",
   "execution_count": 210,
   "metadata": {},
   "outputs": [
    {
     "data": {
      "text/plain": [
       "LinearRegression(copy_X=True, fit_intercept=True, n_jobs=1, normalize=False)"
      ]
     },
     "execution_count": 210,
     "metadata": {},
     "output_type": "execute_result"
    }
   ],
   "source": [
    "lr = LinearRegression()\n",
    "lr.fit(trainX, trainY)"
   ]
  },
  {
   "cell_type": "code",
   "execution_count": 211,
   "metadata": {
    "collapsed": true
   },
   "outputs": [],
   "source": [
    "pred = lr.predict(testX)"
   ]
  },
  {
   "cell_type": "code",
   "execution_count": 212,
   "metadata": {
    "collapsed": true
   },
   "outputs": [],
   "source": [
    "from sklearn.metrics import mean_squared_error"
   ]
  },
  {
   "cell_type": "code",
   "execution_count": 213,
   "metadata": {},
   "outputs": [
    {
     "data": {
      "text/plain": [
       "2.5751783252238747"
      ]
     },
     "execution_count": 213,
     "metadata": {},
     "output_type": "execute_result"
    }
   ],
   "source": [
    "mean_squared_error(pred, testY)"
   ]
  },
  {
   "cell_type": "code",
   "execution_count": 214,
   "metadata": {},
   "outputs": [
    {
     "data": {
      "text/plain": [
       "array([ 0.05126464])"
      ]
     },
     "execution_count": 214,
     "metadata": {},
     "output_type": "execute_result"
    }
   ],
   "source": [
    "ndcg(testY, pred,5)"
   ]
  },
  {
   "cell_type": "markdown",
   "metadata": {},
   "source": [
    "## preparing results"
   ]
  },
  {
   "cell_type": "code",
   "execution_count": 218,
   "metadata": {
    "collapsed": true
   },
   "outputs": [],
   "source": [
    "from sklearn.metrics.pairwise import cosine_similarity"
   ]
  },
  {
   "cell_type": "code",
   "execution_count": 359,
   "metadata": {},
   "outputs": [],
   "source": [
    "def get_text_from_query_by(i):\n",
    "    print(i)\n",
    "    text = queries[queries['QueryId']==i].values[0][1]\n",
    "    return clean_query(text)"
   ]
  },
  {
   "cell_type": "code",
   "execution_count": 418,
   "metadata": {
    "collapsed": true
   },
   "outputs": [],
   "source": [
    "def to_nparray(res):\n",
    "    result = np.zeros((len(res), 2))\n",
    "    for i,row in enumerate(res):\n",
    "        result[i,0] = row[1]\n",
    "        result[i,1] = row[2]\n",
    "    return result"
   ]
  },
  {
   "cell_type": "code",
   "execution_count": 417,
   "metadata": {},
   "outputs": [],
   "source": [
    "def rank_block_by_dist(q_ids, d_ids):\n",
    "    sim = []\n",
    "    for q_id, d_id in zip(q_ids, d_ids):\n",
    "        dv = get_sen_vector(docs[str(d_id)].text)\n",
    "        qv = get_sen_vector(get_text_from_query_by(q_id))\n",
    "        sim.append(cosine_similarity(dv,qv))\n",
    "        \n",
    "    return to_nparray(sorted(zip(sim, q_ids, d_ids), key=lambda key: key[0]))"
   ]
  },
  {
   "cell_type": "code",
   "execution_count": 416,
   "metadata": {
    "collapsed": true
   },
   "outputs": [],
   "source": [
    "def rank_block_by_pred(q_ids, d_ids):\n",
    "    result = []\n",
    "    for q_id, d_id in zip(q_ids, d_ids):\n",
    "        d_vec = get_sen_vector(docs[str(d_id)].text)\n",
    "        q_vec = get_sen_vector(get_text_from_query_by(q_id))\n",
    "        vec = np.hstack([d_vec, q_vec]).reshape(1,SIZE * 2)\n",
    "        m = xgb.DMatrix(vec)\n",
    "        pred = bst.predict(m)\n",
    "        result.append(pred)\n",
    "        \n",
    "    return to_nparray(sorted(zip(result, q_ids, d_ids), key=lambda key: key[0]))"
   ]
  },
  {
   "cell_type": "markdown",
   "metadata": {},
   "source": [
    "## example for ranking in case of query absense in train"
   ]
  },
  {
   "cell_type": "code",
   "execution_count": 365,
   "metadata": {},
   "outputs": [
    {
     "name": "stdout",
     "output_type": "stream",
     "text": [
      "126\n",
      "126\n",
      "126\n",
      "126\n",
      "126\n",
      "126\n",
      "126\n",
      "126\n",
      "126\n"
     ]
    }
   ],
   "source": [
    "tq = rel_test.iloc[0:9,0].values\n",
    "td = rel_test.iloc[0:9,1].values\n",
    "r2 = rank_block_by_pred(tq,td)"
   ]
  },
  {
   "cell_type": "code",
   "execution_count": 420,
   "metadata": {},
   "outputs": [],
   "source": [
    "t = np.zeros((10,2))\n",
    "for i,row in enumerate(r2):\n",
    "    t[i,0] = row[1]\n",
    "    t"
   ]
  },
  {
   "cell_type": "code",
   "execution_count": 421,
   "metadata": {},
   "outputs": [
    {
     "data": {
      "text/plain": [
       "array([[ 126.,    0.],\n",
       "       [ 126.,    0.],\n",
       "       [ 126.,    0.],\n",
       "       [ 126.,    0.],\n",
       "       [ 126.,    0.],\n",
       "       [ 126.,    0.],\n",
       "       [ 126.,    0.],\n",
       "       [ 126.,    0.],\n",
       "       [ 126.,    0.],\n",
       "       [   0.,    0.]])"
      ]
     },
     "execution_count": 421,
     "metadata": {},
     "output_type": "execute_result"
    }
   ],
   "source": [
    "t"
   ]
  },
  {
   "cell_type": "code",
   "execution_count": 438,
   "metadata": {},
   "outputs": [],
   "source": [
    "prev_q = -1\n",
    "prev_i = -1\n",
    "cnt = prev_i\n",
    "\n",
    "result = np.zeros((len(rel_test),2))\n",
    "\n",
    "for i,row in rel_test.iterrows():\n",
    "    q_id = str(row['QueryId'])\n",
    "    d_id = str(row['DocumentId'])\n",
    "    \n",
    "    if prev_q == -1:\n",
    "        prev_q = q_id\n",
    "        prev_i = i\n",
    "        \n",
    "    if prev_q != q_id:\n",
    "        if q_id in queries['QueryId']:\n",
    "            r = rank_block_by_dist(rel_test.iloc[prev_i:i,0], rel_test.iloc[prev_i:i,1])\n",
    "        else:\n",
    "            r = to_nparray(sorted(zip(np.zeros(i-prev_i),rel_test.iloc[prev_i:i,0], rel_test.iloc[prev_i:i,1])))\n",
    "        for row in r:\n",
    "            result[cnt,0] = row[0]\n",
    "            result[cnt,1] = row[1]\n",
    "            cnt += 1\n",
    "                \n",
    "        prev_q = q_id\n",
    "        prev_i = i"
   ]
  },
  {
   "cell_type": "code",
   "execution_count": 439,
   "metadata": {},
   "outputs": [
    {
     "data": {
      "text/plain": [
       "(847, 2)"
      ]
     },
     "execution_count": 439,
     "metadata": {},
     "output_type": "execute_result"
    }
   ],
   "source": [
    "result.shape"
   ]
  },
  {
   "cell_type": "code",
   "execution_count": 440,
   "metadata": {},
   "outputs": [
    {
     "data": {
      "text/html": [
       "<div>\n",
       "<style>\n",
       "    .dataframe thead tr:only-child th {\n",
       "        text-align: right;\n",
       "    }\n",
       "\n",
       "    .dataframe thead th {\n",
       "        text-align: left;\n",
       "    }\n",
       "\n",
       "    .dataframe tbody tr th {\n",
       "        vertical-align: top;\n",
       "    }\n",
       "</style>\n",
       "<table border=\"1\" class=\"dataframe\">\n",
       "  <thead>\n",
       "    <tr style=\"text-align: right;\">\n",
       "      <th></th>\n",
       "      <th>0</th>\n",
       "      <th>1</th>\n",
       "    </tr>\n",
       "  </thead>\n",
       "  <tbody>\n",
       "    <tr>\n",
       "      <th>0</th>\n",
       "      <td>126.0</td>\n",
       "      <td>942.0</td>\n",
       "    </tr>\n",
       "    <tr>\n",
       "      <th>1</th>\n",
       "      <td>126.0</td>\n",
       "      <td>969.0</td>\n",
       "    </tr>\n",
       "    <tr>\n",
       "      <th>2</th>\n",
       "      <td>126.0</td>\n",
       "      <td>970.0</td>\n",
       "    </tr>\n",
       "    <tr>\n",
       "      <th>3</th>\n",
       "      <td>126.0</td>\n",
       "      <td>971.0</td>\n",
       "    </tr>\n",
       "    <tr>\n",
       "      <th>4</th>\n",
       "      <td>126.0</td>\n",
       "      <td>972.0</td>\n",
       "    </tr>\n",
       "    <tr>\n",
       "      <th>5</th>\n",
       "      <td>126.0</td>\n",
       "      <td>973.0</td>\n",
       "    </tr>\n",
       "    <tr>\n",
       "      <th>6</th>\n",
       "      <td>126.0</td>\n",
       "      <td>974.0</td>\n",
       "    </tr>\n",
       "    <tr>\n",
       "      <th>7</th>\n",
       "      <td>126.0</td>\n",
       "      <td>1326.0</td>\n",
       "    </tr>\n",
       "    <tr>\n",
       "      <th>8</th>\n",
       "      <td>127.0</td>\n",
       "      <td>101.0</td>\n",
       "    </tr>\n",
       "    <tr>\n",
       "      <th>9</th>\n",
       "      <td>127.0</td>\n",
       "      <td>164.0</td>\n",
       "    </tr>\n",
       "    <tr>\n",
       "      <th>10</th>\n",
       "      <td>127.0</td>\n",
       "      <td>944.0</td>\n",
       "    </tr>\n",
       "    <tr>\n",
       "      <th>11</th>\n",
       "      <td>127.0</td>\n",
       "      <td>981.0</td>\n",
       "    </tr>\n",
       "    <tr>\n",
       "      <th>12</th>\n",
       "      <td>127.0</td>\n",
       "      <td>982.0</td>\n",
       "    </tr>\n",
       "    <tr>\n",
       "      <th>13</th>\n",
       "      <td>127.0</td>\n",
       "      <td>983.0</td>\n",
       "    </tr>\n",
       "    <tr>\n",
       "      <th>14</th>\n",
       "      <td>128.0</td>\n",
       "      <td>945.0</td>\n",
       "    </tr>\n",
       "    <tr>\n",
       "      <th>15</th>\n",
       "      <td>128.0</td>\n",
       "      <td>985.0</td>\n",
       "    </tr>\n",
       "    <tr>\n",
       "      <th>16</th>\n",
       "      <td>128.0</td>\n",
       "      <td>990.0</td>\n",
       "    </tr>\n",
       "    <tr>\n",
       "      <th>17</th>\n",
       "      <td>129.0</td>\n",
       "      <td>945.0</td>\n",
       "    </tr>\n",
       "    <tr>\n",
       "      <th>18</th>\n",
       "      <td>129.0</td>\n",
       "      <td>984.0</td>\n",
       "    </tr>\n",
       "    <tr>\n",
       "      <th>19</th>\n",
       "      <td>129.0</td>\n",
       "      <td>985.0</td>\n",
       "    </tr>\n",
       "    <tr>\n",
       "      <th>20</th>\n",
       "      <td>129.0</td>\n",
       "      <td>986.0</td>\n",
       "    </tr>\n",
       "    <tr>\n",
       "      <th>21</th>\n",
       "      <td>129.0</td>\n",
       "      <td>987.0</td>\n",
       "    </tr>\n",
       "    <tr>\n",
       "      <th>22</th>\n",
       "      <td>129.0</td>\n",
       "      <td>988.0</td>\n",
       "    </tr>\n",
       "    <tr>\n",
       "      <th>23</th>\n",
       "      <td>129.0</td>\n",
       "      <td>989.0</td>\n",
       "    </tr>\n",
       "    <tr>\n",
       "      <th>24</th>\n",
       "      <td>129.0</td>\n",
       "      <td>990.0</td>\n",
       "    </tr>\n",
       "    <tr>\n",
       "      <th>25</th>\n",
       "      <td>130.0</td>\n",
       "      <td>12.0</td>\n",
       "    </tr>\n",
       "    <tr>\n",
       "      <th>26</th>\n",
       "      <td>130.0</td>\n",
       "      <td>766.0</td>\n",
       "    </tr>\n",
       "    <tr>\n",
       "      <th>27</th>\n",
       "      <td>130.0</td>\n",
       "      <td>858.0</td>\n",
       "    </tr>\n",
       "    <tr>\n",
       "      <th>28</th>\n",
       "      <td>130.0</td>\n",
       "      <td>859.0</td>\n",
       "    </tr>\n",
       "    <tr>\n",
       "      <th>29</th>\n",
       "      <td>130.0</td>\n",
       "      <td>948.0</td>\n",
       "    </tr>\n",
       "    <tr>\n",
       "      <th>...</th>\n",
       "      <td>...</td>\n",
       "      <td>...</td>\n",
       "    </tr>\n",
       "    <tr>\n",
       "      <th>817</th>\n",
       "      <td>224.0</td>\n",
       "      <td>1316.0</td>\n",
       "    </tr>\n",
       "    <tr>\n",
       "      <th>818</th>\n",
       "      <td>224.0</td>\n",
       "      <td>1317.0</td>\n",
       "    </tr>\n",
       "    <tr>\n",
       "      <th>819</th>\n",
       "      <td>224.0</td>\n",
       "      <td>1318.0</td>\n",
       "    </tr>\n",
       "    <tr>\n",
       "      <th>820</th>\n",
       "      <td>224.0</td>\n",
       "      <td>1319.0</td>\n",
       "    </tr>\n",
       "    <tr>\n",
       "      <th>821</th>\n",
       "      <td>0.0</td>\n",
       "      <td>0.0</td>\n",
       "    </tr>\n",
       "    <tr>\n",
       "      <th>822</th>\n",
       "      <td>0.0</td>\n",
       "      <td>0.0</td>\n",
       "    </tr>\n",
       "    <tr>\n",
       "      <th>823</th>\n",
       "      <td>0.0</td>\n",
       "      <td>0.0</td>\n",
       "    </tr>\n",
       "    <tr>\n",
       "      <th>824</th>\n",
       "      <td>0.0</td>\n",
       "      <td>0.0</td>\n",
       "    </tr>\n",
       "    <tr>\n",
       "      <th>825</th>\n",
       "      <td>0.0</td>\n",
       "      <td>0.0</td>\n",
       "    </tr>\n",
       "    <tr>\n",
       "      <th>826</th>\n",
       "      <td>0.0</td>\n",
       "      <td>0.0</td>\n",
       "    </tr>\n",
       "    <tr>\n",
       "      <th>827</th>\n",
       "      <td>0.0</td>\n",
       "      <td>0.0</td>\n",
       "    </tr>\n",
       "    <tr>\n",
       "      <th>828</th>\n",
       "      <td>0.0</td>\n",
       "      <td>0.0</td>\n",
       "    </tr>\n",
       "    <tr>\n",
       "      <th>829</th>\n",
       "      <td>0.0</td>\n",
       "      <td>0.0</td>\n",
       "    </tr>\n",
       "    <tr>\n",
       "      <th>830</th>\n",
       "      <td>0.0</td>\n",
       "      <td>0.0</td>\n",
       "    </tr>\n",
       "    <tr>\n",
       "      <th>831</th>\n",
       "      <td>0.0</td>\n",
       "      <td>0.0</td>\n",
       "    </tr>\n",
       "    <tr>\n",
       "      <th>832</th>\n",
       "      <td>0.0</td>\n",
       "      <td>0.0</td>\n",
       "    </tr>\n",
       "    <tr>\n",
       "      <th>833</th>\n",
       "      <td>0.0</td>\n",
       "      <td>0.0</td>\n",
       "    </tr>\n",
       "    <tr>\n",
       "      <th>834</th>\n",
       "      <td>0.0</td>\n",
       "      <td>0.0</td>\n",
       "    </tr>\n",
       "    <tr>\n",
       "      <th>835</th>\n",
       "      <td>0.0</td>\n",
       "      <td>0.0</td>\n",
       "    </tr>\n",
       "    <tr>\n",
       "      <th>836</th>\n",
       "      <td>0.0</td>\n",
       "      <td>0.0</td>\n",
       "    </tr>\n",
       "    <tr>\n",
       "      <th>837</th>\n",
       "      <td>0.0</td>\n",
       "      <td>0.0</td>\n",
       "    </tr>\n",
       "    <tr>\n",
       "      <th>838</th>\n",
       "      <td>0.0</td>\n",
       "      <td>0.0</td>\n",
       "    </tr>\n",
       "    <tr>\n",
       "      <th>839</th>\n",
       "      <td>0.0</td>\n",
       "      <td>0.0</td>\n",
       "    </tr>\n",
       "    <tr>\n",
       "      <th>840</th>\n",
       "      <td>0.0</td>\n",
       "      <td>0.0</td>\n",
       "    </tr>\n",
       "    <tr>\n",
       "      <th>841</th>\n",
       "      <td>0.0</td>\n",
       "      <td>0.0</td>\n",
       "    </tr>\n",
       "    <tr>\n",
       "      <th>842</th>\n",
       "      <td>0.0</td>\n",
       "      <td>0.0</td>\n",
       "    </tr>\n",
       "    <tr>\n",
       "      <th>843</th>\n",
       "      <td>0.0</td>\n",
       "      <td>0.0</td>\n",
       "    </tr>\n",
       "    <tr>\n",
       "      <th>844</th>\n",
       "      <td>0.0</td>\n",
       "      <td>0.0</td>\n",
       "    </tr>\n",
       "    <tr>\n",
       "      <th>845</th>\n",
       "      <td>0.0</td>\n",
       "      <td>0.0</td>\n",
       "    </tr>\n",
       "    <tr>\n",
       "      <th>846</th>\n",
       "      <td>126.0</td>\n",
       "      <td>187.0</td>\n",
       "    </tr>\n",
       "  </tbody>\n",
       "</table>\n",
       "<p>847 rows × 2 columns</p>\n",
       "</div>"
      ],
      "text/plain": [
       "         0       1\n",
       "0    126.0   942.0\n",
       "1    126.0   969.0\n",
       "2    126.0   970.0\n",
       "3    126.0   971.0\n",
       "4    126.0   972.0\n",
       "5    126.0   973.0\n",
       "6    126.0   974.0\n",
       "7    126.0  1326.0\n",
       "8    127.0   101.0\n",
       "9    127.0   164.0\n",
       "10   127.0   944.0\n",
       "11   127.0   981.0\n",
       "12   127.0   982.0\n",
       "13   127.0   983.0\n",
       "14   128.0   945.0\n",
       "15   128.0   985.0\n",
       "16   128.0   990.0\n",
       "17   129.0   945.0\n",
       "18   129.0   984.0\n",
       "19   129.0   985.0\n",
       "20   129.0   986.0\n",
       "21   129.0   987.0\n",
       "22   129.0   988.0\n",
       "23   129.0   989.0\n",
       "24   129.0   990.0\n",
       "25   130.0    12.0\n",
       "26   130.0   766.0\n",
       "27   130.0   858.0\n",
       "28   130.0   859.0\n",
       "29   130.0   948.0\n",
       "..     ...     ...\n",
       "817  224.0  1316.0\n",
       "818  224.0  1317.0\n",
       "819  224.0  1318.0\n",
       "820  224.0  1319.0\n",
       "821    0.0     0.0\n",
       "822    0.0     0.0\n",
       "823    0.0     0.0\n",
       "824    0.0     0.0\n",
       "825    0.0     0.0\n",
       "826    0.0     0.0\n",
       "827    0.0     0.0\n",
       "828    0.0     0.0\n",
       "829    0.0     0.0\n",
       "830    0.0     0.0\n",
       "831    0.0     0.0\n",
       "832    0.0     0.0\n",
       "833    0.0     0.0\n",
       "834    0.0     0.0\n",
       "835    0.0     0.0\n",
       "836    0.0     0.0\n",
       "837    0.0     0.0\n",
       "838    0.0     0.0\n",
       "839    0.0     0.0\n",
       "840    0.0     0.0\n",
       "841    0.0     0.0\n",
       "842    0.0     0.0\n",
       "843    0.0     0.0\n",
       "844    0.0     0.0\n",
       "845    0.0     0.0\n",
       "846  126.0   187.0\n",
       "\n",
       "[847 rows x 2 columns]"
      ]
     },
     "execution_count": 440,
     "metadata": {},
     "output_type": "execute_result"
    }
   ],
   "source": [
    "pd.DataFrame(result)"
   ]
  },
  {
   "cell_type": "code",
   "execution_count": 171,
   "metadata": {
    "collapsed": true
   },
   "outputs": [],
   "source": [
    "res_out = np.zeros(shape=(len(test_q), 2),dtype=np.uint8)\n",
    "p_q = test_q[0]\n",
    "p_i = 0\n",
    "cnt=0\n",
    "for i,q in enumerate(test_q):\n",
    "    if p_q != q or i == len(test_q)-1:\n",
    "        tup = zip(result[p_i:i], test_q[p_i:i], test_d[p_i:i])\n",
    "        out = sorted(tup, key=lambda e:e[0])\n",
    "        for r,q,d in out:\n",
    "            res_out[cnt,0] = int(q)\n",
    "            res_out[cnt,1]=int(d)\n",
    "            cnt += 1\n",
    "        p_i = i\n",
    "        p_q = q"
   ]
  },
  {
   "cell_type": "code",
   "execution_count": 173,
   "metadata": {
    "collapsed": true
   },
   "outputs": [],
   "source": [
    "output = pd.DataFrame(res_out,columns=['QueryId', 'DocumentId'])"
   ]
  },
  {
   "cell_type": "code",
   "execution_count": 176,
   "metadata": {
    "collapsed": true
   },
   "outputs": [],
   "source": [
    "output.to_csv(path_or_buf='pred.csv', columns=('QueryId','DocumentId'), header=('QueryId','DocumentId'), index=False)"
   ]
  }
 ],
 "metadata": {
  "kernelspec": {
   "display_name": "Python 3",
   "language": "python",
   "name": "python3"
  },
  "language_info": {
   "codemirror_mode": {
    "name": "ipython",
    "version": 3
   },
   "file_extension": ".py",
   "mimetype": "text/x-python",
   "name": "python",
   "nbconvert_exporter": "python",
   "pygments_lexer": "ipython3",
   "version": "3.6.1"
  }
 },
 "nbformat": 4,
 "nbformat_minor": 2
}
