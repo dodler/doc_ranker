{
 "cells": [
  {
   "cell_type": "code",
   "execution_count": 2,
   "metadata": {
    "collapsed": true
   },
   "outputs": [],
   "source": [
    "import pandas as pd\n",
    "import re\n",
    "import numpy as np\n",
    "\n",
    "from functools import reduce\n",
    "import nltk"
   ]
  },
  {
   "cell_type": "code",
   "execution_count": 3,
   "metadata": {
    "collapsed": true
   },
   "outputs": [],
   "source": [
    "import stop_words"
   ]
  },
  {
   "cell_type": "code",
   "execution_count": 4,
   "metadata": {
    "collapsed": true
   },
   "outputs": [],
   "source": [
    "import gensim\n",
    "from gensim.models.doc2vec import LabeledSentence"
   ]
  },
  {
   "cell_type": "code",
   "execution_count": 5,
   "metadata": {
    "collapsed": true
   },
   "outputs": [],
   "source": [
    "import math"
   ]
  },
  {
   "cell_type": "code",
   "execution_count": 6,
   "metadata": {
    "collapsed": true
   },
   "outputs": [],
   "source": [
    "import random"
   ]
  },
  {
   "cell_type": "markdown",
   "metadata": {},
   "source": [
    "## for cleanup"
   ]
  },
  {
   "cell_type": "code",
   "execution_count": 7,
   "metadata": {
    "collapsed": true
   },
   "outputs": [],
   "source": [
    "ps = nltk.stem.snowball.SnowballStemmer('english')"
   ]
  },
  {
   "cell_type": "code",
   "execution_count": 8,
   "metadata": {
    "collapsed": true
   },
   "outputs": [],
   "source": [
    "sw = stop_words.get_stop_words('english')"
   ]
  },
  {
   "cell_type": "code",
   "execution_count": 9,
   "metadata": {},
   "outputs": [
    {
     "data": {
      "text/plain": [
       "'abdE'"
      ]
     },
     "execution_count": 9,
     "metadata": {},
     "output_type": "execute_result"
    }
   ],
   "source": [
    "regex = re.compile('[^a-zA-Z]')\n",
    "#First parameter is the replacement, second parameter is your input string\n",
    "regex.sub('', 'ab3d*E')"
   ]
  },
  {
   "cell_type": "code",
   "execution_count": 10,
   "metadata": {
    "collapsed": true
   },
   "outputs": [],
   "source": [
    "def clean_query(tq):\n",
    "    result = \" \"\n",
    "    t = regex.sub(' ',tq)\n",
    "    for w in t.split():\n",
    "        if w not in sw:\n",
    "            result += ps.stem(w.replace(r'[^a-zA-Z]', '')) + \" \"\n",
    "    return result"
   ]
  },
  {
   "cell_type": "code",
   "execution_count": 11,
   "metadata": {
    "collapsed": true
   },
   "outputs": [],
   "source": [
    "def prepare_query(tq):\n",
    "    result = \" \"\n",
    "    t = regex.sub(' ',tq)\n",
    "    for w in t.split():\n",
    "        if w not in sw:\n",
    "            result += ps.stem(w.replace(r'[^a-zA-Z]', '')) + \" \"\n",
    "    return result.split()"
   ]
  },
  {
   "cell_type": "markdown",
   "metadata": {},
   "source": [
    "## prepare data"
   ]
  },
  {
   "cell_type": "code",
   "execution_count": 12,
   "metadata": {
    "collapsed": true
   },
   "outputs": [],
   "source": [
    "class Doc:\n",
    "    def __init__(self, title, author, text_lines):\n",
    "        self.title = title\n",
    "        self.author=author\n",
    "        self.text = flat(list(map(lambda l: regex.sub(' ',l).split(), text_lines)))"
   ]
  },
  {
   "cell_type": "code",
   "execution_count": 13,
   "metadata": {
    "collapsed": true
   },
   "outputs": [],
   "source": [
    "def flat(list_of_list):\n",
    "    result = []\n",
    "    for li in list_of_list:\n",
    "        for el in li:\n",
    "            result.append(el)\n",
    "            \n",
    "    result = list(filter(lambda l:len(line) > 1, result))\n",
    "    \n",
    "    return result"
   ]
  },
  {
   "cell_type": "code",
   "execution_count": 14,
   "metadata": {
    "collapsed": true
   },
   "outputs": [],
   "source": [
    "def parse_article_lines(lines):\n",
    "    text_index = 0\n",
    "    \n",
    "    l_s_i = 0\n",
    "    l_e_i = 0 # label_{start-end}_index\n",
    "    \n",
    "    for i,l in enumerate(lines):\n",
    "        if '.T' in l:\n",
    "            l_s_i = i+1\n",
    "        \n",
    "        if '.A' in l:\n",
    "            l_e_i = i\n",
    "        \n",
    "        if '.W' in l:\n",
    "            text_index = i+1\n",
    "    \n",
    "    author = lines[l_e_i+1]\n",
    "    \n",
    "    return Doc(lines[l_s_i:l_e_i], author, lines[text_index:len(lines)])"
   ]
  },
  {
   "cell_type": "code",
   "execution_count": 15,
   "metadata": {
    "collapsed": true
   },
   "outputs": [],
   "source": [
    "article_start = 0\n",
    "article_lines = []\n",
    "\n",
    "docs = {}\n",
    "\n",
    "lines = []\n",
    "with open('Documents.csv') as file:\n",
    "    lines = file.readlines()\n",
    "\n",
    "for i,line in enumerate(lines):\n",
    "    if 'Id' in line and len(line) < 12 and article_start != i:\n",
    "        article_lines = lines[article_start:i]\n",
    "        article_start = i\n",
    "        \n",
    "        q_id = line.split()[1]\n",
    "        docs[q_id] = parse_article_lines(article_lines)\n",
    "    "
   ]
  },
  {
   "cell_type": "code",
   "execution_count": 16,
   "metadata": {
    "collapsed": true
   },
   "outputs": [],
   "source": [
    "rel_train = pd.read_csv('relevance_train.csv', sep=',', lineterminator='\\n')\n",
    "rel_test = pd.read_csv('relevance_test.csv')\n",
    "queries = pd.read_csv('queries.csv', sep='|',lineterminator='\\n')"
   ]
  },
  {
   "cell_type": "code",
   "execution_count": 17,
   "metadata": {
    "collapsed": true
   },
   "outputs": [],
   "source": [
    "def doc2labeled_sentence(doc):\n",
    "    return LabeledSentence(words=doc.text, tags=doc.title)"
   ]
  },
  {
   "cell_type": "code",
   "execution_count": 18,
   "metadata": {
    "collapsed": true
   },
   "outputs": [],
   "source": [
    "ls = list(map(doc2labeled_sentence, docs.values()))"
   ]
  },
  {
   "cell_type": "code",
   "execution_count": 19,
   "metadata": {
    "collapsed": true
   },
   "outputs": [],
   "source": [
    "t = list(map(lambda d: d.text, docs.values()))\n",
    "\n",
    "docs_as_arr = []\n",
    "for d in t:\n",
    "    if len(d) > 0:\n",
    "        docs_as_arr.append(reduce(lambda w1,w2: w1 + \" \" + w2 ,d))\n",
    "\n",
    "#text_as_str = reduce(lambda w1,w2 : w1 + \" \" + w2, t)"
   ]
  },
  {
   "cell_type": "markdown",
   "metadata": {},
   "source": [
    "## now prepare model"
   ]
  },
  {
   "cell_type": "code",
   "execution_count": 19,
   "metadata": {
    "collapsed": true
   },
   "outputs": [
    {
     "ename": "FileNotFoundError",
     "evalue": "[Errno 2] No such file or directory: 'GoogleNews-vectors-negative300.bin'",
     "output_type": "error",
     "traceback": [
      "\u001b[0;31m---------------------------------------------------------------------------\u001b[0m",
      "\u001b[0;31mFileNotFoundError\u001b[0m                         Traceback (most recent call last)",
      "\u001b[0;32m<ipython-input-19-8af6e54850cc>\u001b[0m in \u001b[0;36m<module>\u001b[0;34m()\u001b[0m\n\u001b[0;32m----> 1\u001b[0;31m \u001b[0mmodel\u001b[0m \u001b[0;34m=\u001b[0m \u001b[0mgensim\u001b[0m\u001b[0;34m.\u001b[0m\u001b[0mmodels\u001b[0m\u001b[0;34m.\u001b[0m\u001b[0mKeyedVectors\u001b[0m\u001b[0;34m.\u001b[0m\u001b[0mload_word2vec_format\u001b[0m\u001b[0;34m(\u001b[0m\u001b[0;34m'GoogleNews-vectors-negative300.bin'\u001b[0m\u001b[0;34m,\u001b[0m \u001b[0mbinary\u001b[0m\u001b[0;34m=\u001b[0m\u001b[0;32mTrue\u001b[0m\u001b[0;34m)\u001b[0m\u001b[0;34m\u001b[0m\u001b[0m\n\u001b[0m",
      "\u001b[0;32m~/anaconda3/lib/python3.6/site-packages/gensim/models/keyedvectors.py\u001b[0m in \u001b[0;36mload_word2vec_format\u001b[0;34m(cls, fname, fvocab, binary, encoding, unicode_errors, limit, datatype)\u001b[0m\n\u001b[1;32m    200\u001b[0m \u001b[0;34m\u001b[0m\u001b[0m\n\u001b[1;32m    201\u001b[0m         \u001b[0mlogger\u001b[0m\u001b[0;34m.\u001b[0m\u001b[0minfo\u001b[0m\u001b[0;34m(\u001b[0m\u001b[0;34m\"loading projection weights from %s\"\u001b[0m\u001b[0;34m,\u001b[0m \u001b[0mfname\u001b[0m\u001b[0;34m)\u001b[0m\u001b[0;34m\u001b[0m\u001b[0m\n\u001b[0;32m--> 202\u001b[0;31m         \u001b[0;32mwith\u001b[0m \u001b[0mutils\u001b[0m\u001b[0;34m.\u001b[0m\u001b[0msmart_open\u001b[0m\u001b[0;34m(\u001b[0m\u001b[0mfname\u001b[0m\u001b[0;34m)\u001b[0m \u001b[0;32mas\u001b[0m \u001b[0mfin\u001b[0m\u001b[0;34m:\u001b[0m\u001b[0;34m\u001b[0m\u001b[0m\n\u001b[0m\u001b[1;32m    203\u001b[0m             \u001b[0mheader\u001b[0m \u001b[0;34m=\u001b[0m \u001b[0mutils\u001b[0m\u001b[0;34m.\u001b[0m\u001b[0mto_unicode\u001b[0m\u001b[0;34m(\u001b[0m\u001b[0mfin\u001b[0m\u001b[0;34m.\u001b[0m\u001b[0mreadline\u001b[0m\u001b[0;34m(\u001b[0m\u001b[0;34m)\u001b[0m\u001b[0;34m,\u001b[0m \u001b[0mencoding\u001b[0m\u001b[0;34m=\u001b[0m\u001b[0mencoding\u001b[0m\u001b[0;34m)\u001b[0m\u001b[0;34m\u001b[0m\u001b[0m\n\u001b[1;32m    204\u001b[0m             \u001b[0mvocab_size\u001b[0m\u001b[0;34m,\u001b[0m \u001b[0mvector_size\u001b[0m \u001b[0;34m=\u001b[0m \u001b[0;34m(\u001b[0m\u001b[0mint\u001b[0m\u001b[0;34m(\u001b[0m\u001b[0mx\u001b[0m\u001b[0;34m)\u001b[0m \u001b[0;32mfor\u001b[0m \u001b[0mx\u001b[0m \u001b[0;32min\u001b[0m \u001b[0mheader\u001b[0m\u001b[0;34m.\u001b[0m\u001b[0msplit\u001b[0m\u001b[0;34m(\u001b[0m\u001b[0;34m)\u001b[0m\u001b[0;34m)\u001b[0m  \u001b[0;31m# throws for invalid file format\u001b[0m\u001b[0;34m\u001b[0m\u001b[0m\n",
      "\u001b[0;32m~/anaconda3/lib/python3.6/site-packages/smart_open/smart_open_lib.py\u001b[0m in \u001b[0;36msmart_open\u001b[0;34m(uri, mode, **kw)\u001b[0m\n\u001b[1;32m    174\u001b[0m             \u001b[0mencoding\u001b[0m \u001b[0;34m=\u001b[0m \u001b[0mkw\u001b[0m\u001b[0;34m.\u001b[0m\u001b[0mpop\u001b[0m\u001b[0;34m(\u001b[0m\u001b[0;34m'encoding'\u001b[0m\u001b[0;34m,\u001b[0m \u001b[0;32mNone\u001b[0m\u001b[0;34m)\u001b[0m\u001b[0;34m\u001b[0m\u001b[0m\n\u001b[1;32m    175\u001b[0m             \u001b[0merrors\u001b[0m \u001b[0;34m=\u001b[0m \u001b[0mkw\u001b[0m\u001b[0;34m.\u001b[0m\u001b[0mpop\u001b[0m\u001b[0;34m(\u001b[0m\u001b[0;34m'errors'\u001b[0m\u001b[0;34m,\u001b[0m \u001b[0mDEFAULT_ERRORS\u001b[0m\u001b[0;34m)\u001b[0m\u001b[0;34m\u001b[0m\u001b[0m\n\u001b[0;32m--> 176\u001b[0;31m             \u001b[0;32mreturn\u001b[0m \u001b[0mfile_smart_open\u001b[0m\u001b[0;34m(\u001b[0m\u001b[0mparsed_uri\u001b[0m\u001b[0;34m.\u001b[0m\u001b[0muri_path\u001b[0m\u001b[0;34m,\u001b[0m \u001b[0mmode\u001b[0m\u001b[0;34m,\u001b[0m \u001b[0mencoding\u001b[0m\u001b[0;34m=\u001b[0m\u001b[0mencoding\u001b[0m\u001b[0;34m,\u001b[0m \u001b[0merrors\u001b[0m\u001b[0;34m=\u001b[0m\u001b[0merrors\u001b[0m\u001b[0;34m)\u001b[0m\u001b[0;34m\u001b[0m\u001b[0m\n\u001b[0m\u001b[1;32m    177\u001b[0m         \u001b[0;32melif\u001b[0m \u001b[0mparsed_uri\u001b[0m\u001b[0;34m.\u001b[0m\u001b[0mscheme\u001b[0m \u001b[0;32min\u001b[0m \u001b[0;34m(\u001b[0m\u001b[0;34m\"s3\"\u001b[0m\u001b[0;34m,\u001b[0m \u001b[0;34m\"s3n\"\u001b[0m\u001b[0;34m,\u001b[0m \u001b[0;34m's3u'\u001b[0m\u001b[0;34m)\u001b[0m\u001b[0;34m:\u001b[0m\u001b[0;34m\u001b[0m\u001b[0m\n\u001b[1;32m    178\u001b[0m             \u001b[0;32mreturn\u001b[0m \u001b[0ms3_open_uri\u001b[0m\u001b[0;34m(\u001b[0m\u001b[0mparsed_uri\u001b[0m\u001b[0;34m,\u001b[0m \u001b[0mmode\u001b[0m\u001b[0;34m,\u001b[0m \u001b[0;34m**\u001b[0m\u001b[0mkw\u001b[0m\u001b[0;34m)\u001b[0m\u001b[0;34m\u001b[0m\u001b[0m\n",
      "\u001b[0;32m~/anaconda3/lib/python3.6/site-packages/smart_open/smart_open_lib.py\u001b[0m in \u001b[0;36mfile_smart_open\u001b[0;34m(fname, mode, encoding, errors)\u001b[0m\n\u001b[1;32m    669\u001b[0m     \u001b[0;32mexcept\u001b[0m \u001b[0mKeyError\u001b[0m\u001b[0;34m:\u001b[0m\u001b[0;34m\u001b[0m\u001b[0m\n\u001b[1;32m    670\u001b[0m         \u001b[0mraw_mode\u001b[0m \u001b[0;34m=\u001b[0m \u001b[0mmode\u001b[0m\u001b[0;34m\u001b[0m\u001b[0m\n\u001b[0;32m--> 671\u001b[0;31m     \u001b[0mraw_fobj\u001b[0m \u001b[0;34m=\u001b[0m \u001b[0mopen\u001b[0m\u001b[0;34m(\u001b[0m\u001b[0mfname\u001b[0m\u001b[0;34m,\u001b[0m \u001b[0mraw_mode\u001b[0m\u001b[0;34m)\u001b[0m\u001b[0;34m\u001b[0m\u001b[0m\n\u001b[0m\u001b[1;32m    672\u001b[0m     \u001b[0mdecompressed_fobj\u001b[0m \u001b[0;34m=\u001b[0m \u001b[0mcompression_wrapper\u001b[0m\u001b[0;34m(\u001b[0m\u001b[0mraw_fobj\u001b[0m\u001b[0;34m,\u001b[0m \u001b[0mfname\u001b[0m\u001b[0;34m,\u001b[0m \u001b[0mraw_mode\u001b[0m\u001b[0;34m)\u001b[0m\u001b[0;34m\u001b[0m\u001b[0m\n\u001b[1;32m    673\u001b[0m     \u001b[0mdecoded_fobj\u001b[0m \u001b[0;34m=\u001b[0m \u001b[0mencoding_wrapper\u001b[0m\u001b[0;34m(\u001b[0m\u001b[0mdecompressed_fobj\u001b[0m\u001b[0;34m,\u001b[0m \u001b[0mmode\u001b[0m\u001b[0;34m,\u001b[0m \u001b[0mencoding\u001b[0m\u001b[0;34m=\u001b[0m\u001b[0mencoding\u001b[0m\u001b[0;34m,\u001b[0m \u001b[0merrors\u001b[0m\u001b[0;34m=\u001b[0m\u001b[0merrors\u001b[0m\u001b[0;34m)\u001b[0m\u001b[0;34m\u001b[0m\u001b[0m\n",
      "\u001b[0;31mFileNotFoundError\u001b[0m: [Errno 2] No such file or directory: 'GoogleNews-vectors-negative300.bin'"
     ]
    }
   ],
   "source": [
    "model = gensim.models.KeyedVectors.load_word2vec_format('GoogleNews-vectors-negative300.bin', binary=True)  "
   ]
  },
  {
   "cell_type": "code",
   "execution_count": 89,
   "metadata": {
    "collapsed": true
   },
   "outputs": [],
   "source": [
    "SIZE = 10"
   ]
  },
  {
   "cell_type": "code",
   "execution_count": 72,
   "metadata": {
    "collapsed": true
   },
   "outputs": [],
   "source": [
    "model = gensim.models.Word2Vec(min_count=1,workers=4, hs=1, negative=0)"
   ]
  },
  {
   "cell_type": "code",
   "execution_count": 73,
   "metadata": {
    "collapsed": true
   },
   "outputs": [],
   "source": [
    "model.build_vocab(flat(t))"
   ]
  },
  {
   "cell_type": "code",
   "execution_count": 80,
   "metadata": {
    "collapsed": true
   },
   "outputs": [],
   "source": [
    "model = gensim.models.Doc2Vec(size=SIZE, min_count=1, workers=4, hs=1, negative=0)"
   ]
  },
  {
   "cell_type": "code",
   "execution_count": 81,
   "metadata": {
    "collapsed": true
   },
   "outputs": [],
   "source": [
    "model.build_vocab(ls)"
   ]
  },
  {
   "cell_type": "code",
   "execution_count": 29,
   "metadata": {},
   "outputs": [
    {
     "ename": "NameError",
     "evalue": "name 'model' is not defined",
     "output_type": "error",
     "traceback": [
      "\u001b[0;31m---------------------------------------------------------------------------\u001b[0m",
      "\u001b[0;31mNameError\u001b[0m                                 Traceback (most recent call last)",
      "\u001b[0;32m<ipython-input-29-9c37705f4101>\u001b[0m in \u001b[0;36m<module>\u001b[0;34m()\u001b[0m\n\u001b[0;32m----> 1\u001b[0;31m \u001b[0mkw\u001b[0m \u001b[0;34m=\u001b[0m \u001b[0mmodel\u001b[0m\u001b[0;34m.\u001b[0m\u001b[0mwv\u001b[0m\u001b[0;34m\u001b[0m\u001b[0m\n\u001b[0m",
      "\u001b[0;31mNameError\u001b[0m: name 'model' is not defined"
     ]
    }
   ],
   "source": [
    "kw = model.wv"
   ]
  },
  {
   "cell_type": "code",
   "execution_count": 90,
   "metadata": {
    "collapsed": true
   },
   "outputs": [],
   "source": [
    "from sklearn.feature_extraction.text import TfidfVectorizer"
   ]
  },
  {
   "cell_type": "code",
   "execution_count": 91,
   "metadata": {},
   "outputs": [],
   "source": [
    "tv_docs = TfidfVectorizer(max_features=SIZE, ngram_range=(1,3), stop_words='english')"
   ]
  },
  {
   "cell_type": "code",
   "execution_count": 92,
   "metadata": {},
   "outputs": [
    {
     "name": "stderr",
     "output_type": "stream",
     "text": [
      "Exception ignored in: <bound method DMatrix.__del__ of <xgboost.core.DMatrix object at 0x7f8d23dcfc18>>\n",
      "Traceback (most recent call last):\n",
      "  File \"/home/lyan/anaconda3/lib/python3.6/site-packages/xgboost/core.py\", line 324, in __del__\n",
      "    _check_call(_LIB.XGDMatrixFree(self.handle))\n",
      "AttributeError: 'DMatrix' object has no attribute 'handle'\n"
     ]
    },
    {
     "data": {
      "text/plain": [
       "TfidfVectorizer(analyzer='word', binary=False, decode_error='strict',\n",
       "        dtype=<class 'numpy.int64'>, encoding='utf-8', input='content',\n",
       "        lowercase=True, max_df=1.0, max_features=10, min_df=1,\n",
       "        ngram_range=(1, 3), norm='l2', preprocessor=None, smooth_idf=True,\n",
       "        stop_words='english', strip_accents=None, sublinear_tf=False,\n",
       "        token_pattern='(?u)\\\\b\\\\w\\\\w+\\\\b', tokenizer=None, use_idf=True,\n",
       "        vocabulary=None)"
      ]
     },
     "execution_count": 92,
     "metadata": {},
     "output_type": "execute_result"
    }
   ],
   "source": [
    "tv_docs.fit(flat(t))"
   ]
  },
  {
   "cell_type": "code",
   "execution_count": 93,
   "metadata": {
    "collapsed": true
   },
   "outputs": [],
   "source": [
    "tv_queries = TfidfVectorizer(max_features=SIZE, ngram_range=(1,3), stop_words='english')"
   ]
  },
  {
   "cell_type": "code",
   "execution_count": 94,
   "metadata": {},
   "outputs": [
    {
     "data": {
      "text/plain": [
       "TfidfVectorizer(analyzer='word', binary=False, decode_error='strict',\n",
       "        dtype=<class 'numpy.int64'>, encoding='utf-8', input='content',\n",
       "        lowercase=True, max_df=1.0, max_features=10, min_df=1,\n",
       "        ngram_range=(1, 3), norm='l2', preprocessor=None, smooth_idf=True,\n",
       "        stop_words='english', strip_accents=None, sublinear_tf=False,\n",
       "        token_pattern='(?u)\\\\b\\\\w\\\\w+\\\\b', tokenizer=None, use_idf=True,\n",
       "        vocabulary=None)"
      ]
     },
     "execution_count": 94,
     "metadata": {},
     "output_type": "execute_result"
    }
   ],
   "source": [
    "tv_queries.fit(queries.iloc[:,1].values)"
   ]
  },
  {
   "cell_type": "markdown",
   "metadata": {},
   "source": [
    "## fix that, i suppose should be some library method or somehow fix vocaulary"
   ]
  },
  {
   "cell_type": "code",
   "execution_count": 27,
   "metadata": {
    "collapsed": true
   },
   "outputs": [],
   "source": [
    "def get_sen_vector(sen):\n",
    "    v = np.zeros(SIZE)\n",
    "    for w in sen:\n",
    "        try:\n",
    "            v = np.add(v, kw[w])\n",
    "        except ValueError as e:\n",
    "            pass\n",
    "        except KeyError as e:\n",
    "            pass\n",
    "        \n",
    "    return v / SIZE"
   ]
  },
  {
   "cell_type": "markdown",
   "metadata": {},
   "source": [
    "## prepare now pairs doc - request"
   ]
  },
  {
   "cell_type": "code",
   "execution_count": 28,
   "metadata": {},
   "outputs": [
    {
     "ename": "NameError",
     "evalue": "name 'kw' is not defined",
     "output_type": "error",
     "traceback": [
      "\u001b[0;31m---------------------------------------------------------------------------\u001b[0m",
      "\u001b[0;31mNameError\u001b[0m                                 Traceback (most recent call last)",
      "\u001b[0;32m<ipython-input-28-8c3768371af2>\u001b[0m in \u001b[0;36m<module>\u001b[0;34m()\u001b[0m\n\u001b[1;32m      9\u001b[0m     \u001b[0;32mif\u001b[0m \u001b[0mstr\u001b[0m\u001b[0;34m(\u001b[0m\u001b[0mdid\u001b[0m\u001b[0;34m)\u001b[0m \u001b[0;32min\u001b[0m \u001b[0mdocs\u001b[0m \u001b[0;32mand\u001b[0m \u001b[0mqid\u001b[0m \u001b[0;32min\u001b[0m \u001b[0mqueries\u001b[0m\u001b[0;34m[\u001b[0m\u001b[0;34m'QueryId'\u001b[0m\u001b[0;34m]\u001b[0m\u001b[0;34m:\u001b[0m\u001b[0;34m\u001b[0m\u001b[0m\n\u001b[1;32m     10\u001b[0m             \u001b[0mlabels\u001b[0m\u001b[0;34m.\u001b[0m\u001b[0mappend\u001b[0m\u001b[0;34m(\u001b[0m\u001b[0mrel\u001b[0m\u001b[0;34m)\u001b[0m\u001b[0;34m\u001b[0m\u001b[0m\n\u001b[0;32m---> 11\u001b[0;31m             \u001b[0mq_v\u001b[0m \u001b[0;34m=\u001b[0m \u001b[0mget_sen_vector\u001b[0m\u001b[0;34m(\u001b[0m\u001b[0mqueries\u001b[0m\u001b[0;34m[\u001b[0m\u001b[0mqueries\u001b[0m\u001b[0;34m[\u001b[0m\u001b[0;34m'QueryId'\u001b[0m\u001b[0;34m]\u001b[0m\u001b[0;34m==\u001b[0m\u001b[0mqid\u001b[0m\u001b[0;34m]\u001b[0m\u001b[0;34m)\u001b[0m\u001b[0;34m\u001b[0m\u001b[0m\n\u001b[0m\u001b[1;32m     12\u001b[0m             \u001b[0md_v\u001b[0m \u001b[0;34m=\u001b[0m \u001b[0mget_sen_vector\u001b[0m\u001b[0;34m(\u001b[0m\u001b[0mdocs\u001b[0m\u001b[0;34m[\u001b[0m\u001b[0mstr\u001b[0m\u001b[0;34m(\u001b[0m\u001b[0mdid\u001b[0m\u001b[0;34m)\u001b[0m\u001b[0;34m]\u001b[0m\u001b[0;34m.\u001b[0m\u001b[0mtext\u001b[0m\u001b[0;34m)\u001b[0m\u001b[0;34m\u001b[0m\u001b[0m\n\u001b[1;32m     13\u001b[0m             \u001b[0mvectors\u001b[0m\u001b[0;34m.\u001b[0m\u001b[0mappend\u001b[0m\u001b[0;34m(\u001b[0m\u001b[0mnp\u001b[0m\u001b[0;34m.\u001b[0m\u001b[0madd\u001b[0m\u001b[0;34m(\u001b[0m\u001b[0mq_v\u001b[0m\u001b[0;34m,\u001b[0m\u001b[0md_v\u001b[0m\u001b[0;34m)\u001b[0m \u001b[0;34m/\u001b[0m \u001b[0;36m2.0\u001b[0m\u001b[0;34m)\u001b[0m\u001b[0;34m\u001b[0m\u001b[0m\n",
      "\u001b[0;32m<ipython-input-27-e770938f2590>\u001b[0m in \u001b[0;36mget_sen_vector\u001b[0;34m(sen)\u001b[0m\n\u001b[1;32m      3\u001b[0m     \u001b[0;32mfor\u001b[0m \u001b[0mw\u001b[0m \u001b[0;32min\u001b[0m \u001b[0msen\u001b[0m\u001b[0;34m:\u001b[0m\u001b[0;34m\u001b[0m\u001b[0m\n\u001b[1;32m      4\u001b[0m         \u001b[0;32mtry\u001b[0m\u001b[0;34m:\u001b[0m\u001b[0;34m\u001b[0m\u001b[0m\n\u001b[0;32m----> 5\u001b[0;31m             \u001b[0mv\u001b[0m \u001b[0;34m=\u001b[0m \u001b[0mnp\u001b[0m\u001b[0;34m.\u001b[0m\u001b[0madd\u001b[0m\u001b[0;34m(\u001b[0m\u001b[0mv\u001b[0m\u001b[0;34m,\u001b[0m \u001b[0mkw\u001b[0m\u001b[0;34m[\u001b[0m\u001b[0mw\u001b[0m\u001b[0;34m]\u001b[0m\u001b[0;34m)\u001b[0m\u001b[0;34m\u001b[0m\u001b[0m\n\u001b[0m\u001b[1;32m      6\u001b[0m         \u001b[0;32mexcept\u001b[0m \u001b[0mValueError\u001b[0m \u001b[0;32mas\u001b[0m \u001b[0me\u001b[0m\u001b[0;34m:\u001b[0m\u001b[0;34m\u001b[0m\u001b[0m\n\u001b[1;32m      7\u001b[0m             \u001b[0;32mpass\u001b[0m\u001b[0;34m\u001b[0m\u001b[0m\n",
      "\u001b[0;31mNameError\u001b[0m: name 'kw' is not defined"
     ]
    }
   ],
   "source": [
    "vectors = []\n",
    "labels = []\n",
    "\n",
    "for row in rel_train.iterrows():\n",
    "    qid = row[1][0]\n",
    "    did = row[1][1]\n",
    "    rel = row[1][2]\n",
    "    \n",
    "    if str(did) in docs and qid in queries['QueryId']:\n",
    "            labels.append(rel)\n",
    "            q_v = get_sen_vector(queries[queries['QueryId']==qid])\n",
    "            d_v = get_sen_vector(docs[str(did)].text)\n",
    "            vectors.append(np.add(q_v,d_v) / 2.0)\n",
    "        \n",
    "vectors = np.array(vectors)\n",
    "labels = np.array(labels).reshape(len(labels),1)"
   ]
  },
  {
   "cell_type": "markdown",
   "metadata": {},
   "source": [
    "## same for tfidf from sklearn"
   ]
  },
  {
   "cell_type": "code",
   "execution_count": 95,
   "metadata": {},
   "outputs": [],
   "source": [
    "vectors = []\n",
    "labels = []\n",
    "\n",
    "for row in rel_train.iterrows():\n",
    "    qid = row[1][0]\n",
    "    did = row[1][1]\n",
    "    rel = row[1][2]\n",
    "    \n",
    "    if str(did) in docs and qid in queries['QueryId']:\n",
    "            labels.append(rel)\n",
    "            q_v = np.mean(tv_queries.transform(queries[queries['QueryId']==qid]), axis=0)\n",
    "            d_v = np.mean(tv_docs.transform(docs[str(did)].text), axis=0)\n",
    "            r = np.hstack((q_v, d_v)).reshape(1, 2 * SIZE)\n",
    "            vectors.append(r)\n",
    "        \n",
    "vectors = np.array(vectors).reshape(len(vectors), 2 * SIZE)\n",
    "labels = np.array(labels).reshape(len(labels),1)"
   ]
  },
  {
   "cell_type": "markdown",
   "metadata": {},
   "source": [
    "## metrics"
   ]
  },
  {
   "cell_type": "code",
   "execution_count": 31,
   "metadata": {
    "collapsed": true
   },
   "outputs": [],
   "source": [
    "def dcg(rels,p):\n",
    "    s = 0.0\n",
    "    for i in range(0,p):\n",
    "        rel = rels[i]\n",
    "        s += (pow(rel,2)-1) / (math.log(i+1,2)+1)\n",
    "        \n",
    "    return s"
   ]
  },
  {
   "cell_type": "code",
   "execution_count": 32,
   "metadata": {
    "collapsed": true
   },
   "outputs": [],
   "source": [
    "def ndcg(ideal, rel, p):\n",
    "    return dcg(rel,p) / dcg(ideal,len(ideal))"
   ]
  },
  {
   "cell_type": "markdown",
   "metadata": {},
   "source": [
    "## prepare classification model"
   ]
  },
  {
   "cell_type": "code",
   "execution_count": 33,
   "metadata": {},
   "outputs": [
    {
     "name": "stderr",
     "output_type": "stream",
     "text": [
      "/home/lyan/anaconda3/lib/python3.6/site-packages/sklearn/cross_validation.py:41: DeprecationWarning: This module was deprecated in version 0.18 in favor of the model_selection module into which all the refactored classes and functions are moved. Also note that the interface of the new CV iterators are different from that of this module. This module will be removed in 0.20.\n",
      "  \"This module will be removed in 0.20.\", DeprecationWarning)\n"
     ]
    }
   ],
   "source": [
    "import xgboost as xgb\n",
    "from sklearn.model_selection import train_test_split"
   ]
  },
  {
   "cell_type": "code",
   "execution_count": 96,
   "metadata": {
    "collapsed": true
   },
   "outputs": [],
   "source": [
    "trainX, testX, trainY, testY = train_test_split(vectors, labels)"
   ]
  },
  {
   "cell_type": "code",
   "execution_count": 97,
   "metadata": {},
   "outputs": [],
   "source": [
    "dtrain = xgb.DMatrix(trainX, trainY)\n",
    "dtest = xgb.DMatrix(testX, testY)"
   ]
  },
  {
   "cell_type": "code",
   "execution_count": 102,
   "metadata": {},
   "outputs": [],
   "source": [
    "\n",
    "param = {'silent':1, 'objective':'rank:pairwise' }\n",
    "param['nthread'] = 3\n",
    "param['eval_metric'] = 'ndcg'\n",
    "param['eta'] = 0.075\n",
    "param['max_depth'] = 5\n",
    "param['silent'] = 1\n",
    "param['n_estimators'] = 500\n",
    "param['early_stopping_rounds'] = 30\n",
    "\n",
    "watchlist = [ (dtrain,'train'), (dtest, 'test') ]"
   ]
  },
  {
   "cell_type": "code",
   "execution_count": 103,
   "metadata": {},
   "outputs": [
    {
     "name": "stdout",
     "output_type": "stream",
     "text": [
      "[0]\ttrain-:0.538539\ttest-:0.487108\n",
      "[100]\ttrain-:0.509153\ttest-:0.463131\n",
      "[200]\ttrain-:0.505934\ttest-:0.460353\n",
      "[300]\ttrain-:0.504962\ttest-:0.458292\n",
      "[400]\ttrain-:0.503897\ttest-:0.457401\n",
      "[500]\ttrain-:0.504294\ttest-:0.458746\n",
      "[600]\ttrain-:0.503843\ttest-:0.456646\n",
      "[700]\ttrain-:0.503761\ttest-:0.461261\n",
      "[800]\ttrain-:0.503338\ttest-:0.46147\n",
      "[900]\ttrain-:0.503233\ttest-:0.462196\n"
     ]
    }
   ],
   "source": [
    "bst = xgb.train(param, dtrain, 1000, watchlist,verbose_eval=100)"
   ]
  },
  {
   "cell_type": "code",
   "execution_count": 78,
   "metadata": {
    "collapsed": true
   },
   "outputs": [],
   "source": [
    "pred = bst.predict(dtest)"
   ]
  },
  {
   "cell_type": "code",
   "execution_count": 79,
   "metadata": {},
   "outputs": [
    {
     "data": {
      "text/plain": [
       "array([-0.00088118])"
      ]
     },
     "execution_count": 79,
     "metadata": {},
     "output_type": "execute_result"
    }
   ],
   "source": [
    "ndcg(testY, pred, 5)"
   ]
  },
  {
   "cell_type": "markdown",
   "metadata": {},
   "source": [
    "## linear model"
   ]
  },
  {
   "cell_type": "code",
   "execution_count": 217,
   "metadata": {
    "collapsed": true
   },
   "outputs": [],
   "source": [
    "from sklearn.linear_model import LinearRegression"
   ]
  },
  {
   "cell_type": "code",
   "execution_count": 218,
   "metadata": {},
   "outputs": [
    {
     "data": {
      "text/plain": [
       "LinearRegression(copy_X=True, fit_intercept=True, n_jobs=1, normalize=False)"
      ]
     },
     "execution_count": 218,
     "metadata": {},
     "output_type": "execute_result"
    }
   ],
   "source": [
    "lr = LinearRegression()\n",
    "lr.fit(trainX, trainY)"
   ]
  },
  {
   "cell_type": "code",
   "execution_count": 219,
   "metadata": {
    "collapsed": true
   },
   "outputs": [],
   "source": [
    "pred = lr.predict(testX)"
   ]
  },
  {
   "cell_type": "code",
   "execution_count": 220,
   "metadata": {
    "collapsed": true
   },
   "outputs": [],
   "source": [
    "from sklearn.metrics import mean_squared_error"
   ]
  },
  {
   "cell_type": "code",
   "execution_count": 221,
   "metadata": {},
   "outputs": [
    {
     "data": {
      "text/plain": [
       "2.3206557810416113"
      ]
     },
     "execution_count": 221,
     "metadata": {},
     "output_type": "execute_result"
    }
   ],
   "source": [
    "mean_squared_error(pred, testY)"
   ]
  },
  {
   "cell_type": "code",
   "execution_count": 222,
   "metadata": {},
   "outputs": [
    {
     "data": {
      "text/plain": [
       "array([ 0.04020345])"
      ]
     },
     "execution_count": 222,
     "metadata": {},
     "output_type": "execute_result"
    }
   ],
   "source": [
    "ndcg(testY, pred,5)"
   ]
  },
  {
   "cell_type": "markdown",
   "metadata": {},
   "source": [
    "## preparing results"
   ]
  },
  {
   "cell_type": "code",
   "execution_count": 40,
   "metadata": {
    "collapsed": true
   },
   "outputs": [],
   "source": [
    "from sklearn.metrics.pairwise import cosine_similarity"
   ]
  },
  {
   "cell_type": "code",
   "execution_count": 41,
   "metadata": {
    "collapsed": true
   },
   "outputs": [],
   "source": [
    "def get_text_from_query_by(i):\n",
    "    text = queries[queries['QueryId']==i].values[0][1]\n",
    "    return clean_query(text)"
   ]
  },
  {
   "cell_type": "code",
   "execution_count": 55,
   "metadata": {
    "collapsed": true
   },
   "outputs": [],
   "source": [
    "def to_nparray(res):\n",
    "    print(res)\n",
    "    result = np.zeros((len(res), 2))\n",
    "    for i,row in enumerate(res):\n",
    "        result[i,0] = row[1]\n",
    "        result[i,1] = row[2]\n",
    "    print(result)\n",
    "    return result"
   ]
  },
  {
   "cell_type": "code",
   "execution_count": 43,
   "metadata": {
    "collapsed": true
   },
   "outputs": [],
   "source": [
    "def rank_block_by_dist(q_ids, d_ids):\n",
    "    sim = []\n",
    "    for q_id, d_id in zip(q_ids, d_ids):\n",
    "        dv = get_sen_vector(docs[str(d_id)].text)\n",
    "        qv = get_sen_vector(get_text_from_query_by(q_id))\n",
    "        sim.append(cosine_similarity([dv],[qv]))\n",
    "        \n",
    "    return to_nparray(sorted(zip(sim, q_ids, d_ids), key=lambda key: key[0]))"
   ]
  },
  {
   "cell_type": "code",
   "execution_count": 61,
   "metadata": {
    "collapsed": true
   },
   "outputs": [],
   "source": [
    "def rank_block_by_pred(q_ids, d_ids):\n",
    "    result = []\n",
    "    for q_id, d_id in zip(q_ids, d_ids):\n",
    "        d_vec = get_sen_vector(docs[str(d_id)].text).reshape(SIZE, 1)\n",
    "        q_vec = get_sen_vector(get_text_from_query_by(q_id)).reshape(SIZE,1)\n",
    "        r = np.hstack((q_vec, d_vec)).reshape(2 * SIZE)\n",
    "        m = xgb.DMatrix(r)\n",
    "        pred = bst.predict(m)\n",
    "        result.append(pred)\n",
    "        \n",
    "    print(result)\n",
    "        \n",
    "    return to_nparray(sorted(zip(result, q_ids, d_ids), key=lambda key: key[0]))"
   ]
  },
  {
   "cell_type": "code",
   "execution_count": 62,
   "metadata": {
    "collapsed": true
   },
   "outputs": [],
   "source": [
    "def rank_tfidf(q_ids, d_ids):\n",
    "    result = []\n",
    "    for q_id, d_id in zip(q_ids, d_ids):\n",
    "        q_v = np.mean(tv_queries.transform(queries[queries['QueryId']==q_id]), axis=0)\n",
    "        d_v = np.mean(tv_docs.transform(docs[str(d_id)].text), axis=0)\n",
    "        r = np.hstack((q_v, d_v)).reshape(2 * SIZE)\n",
    "        m = xgb.DMatrix(r)\n",
    "        pred = bst.predict(m)\n",
    "        result.append(pred)\n",
    "            \n",
    "    return to_nparray(sorted(zip(result, q_ids, d_ids), key=lambda key: key[0], reverse=True))"
   ]
  },
  {
   "cell_type": "markdown",
   "metadata": {},
   "source": [
    "## example for ranking in case of query absense in train"
   ]
  },
  {
   "cell_type": "code",
   "execution_count": 81,
   "metadata": {},
   "outputs": [
    {
     "name": "stdout",
     "output_type": "stream",
     "text": [
      "0\n"
     ]
    }
   ],
   "source": [
    "print(len(queries[queries['QueryId'] == 127]))"
   ]
  },
  {
   "cell_type": "code",
   "execution_count": 77,
   "metadata": {},
   "outputs": [
    {
     "data": {
      "text/plain": [
       "True"
      ]
     },
     "execution_count": 77,
     "metadata": {},
     "output_type": "execute_result"
    }
   ],
   "source": [
    "127 in queries['QueryId']"
   ]
  },
  {
   "cell_type": "code",
   "execution_count": 81,
   "metadata": {},
   "outputs": [
    {
     "name": "stdout",
     "output_type": "stream",
     "text": [
      "ranking by pred\n",
      "[(array([ 5.0929451], dtype=float32), 126, 974), (array([ 2.59863329], dtype=float32), 126, 187), (array([ 1.73879623], dtype=float32), 126, 973), (array([ 1.53388178], dtype=float32), 126, 942), (array([ 0.69599879], dtype=float32), 126, 1326), (array([ 0.4590441], dtype=float32), 126, 972), (array([-0.16470325], dtype=float32), 126, 969), (array([-0.49719286], dtype=float32), 126, 970), (array([-1.39386308], dtype=float32), 126, 971)]\n",
      "[[  126.   974.]\n",
      " [  126.   187.]\n",
      " [  126.   973.]\n",
      " [  126.   942.]\n",
      " [  126.  1326.]\n",
      " [  126.   972.]\n",
      " [  126.   969.]\n",
      " [  126.   970.]\n",
      " [  126.   971.]]\n",
      "simple rewirte\n",
      "ranking by pred\n",
      "[(array([ 1.47048688], dtype=float32), 128, 990), (array([ 0.18342799], dtype=float32), 128, 985), (array([-1.00137365], dtype=float32), 128, 945)]\n",
      "[[ 128.  990.]\n",
      " [ 128.  985.]\n",
      " [ 128.  945.]]\n",
      "simple rewirte\n",
      "ranking by pred\n",
      "[(array([ 1.45838702], dtype=float32), 130, 859), (array([ 0.32401633], dtype=float32), 130, 1008), (array([ 0.04663098], dtype=float32), 130, 12), (array([-0.03073549], dtype=float32), 130, 858), (array([-1.40727782], dtype=float32), 130, 948), (array([-3.47035813], dtype=float32), 130, 766)]\n",
      "[[  130.   859.]\n",
      " [  130.  1008.]\n",
      " [  130.    12.]\n",
      " [  130.   858.]\n",
      " [  130.   948.]\n",
      " [  130.   766.]]\n",
      "ranking by pred\n",
      "[(array([ 0.6942389], dtype=float32), 131, 1016), (array([ 0.44962656], dtype=float32), 131, 1019), (array([ 0.37302232], dtype=float32), 131, 1014), (array([ 0.20894063], dtype=float32), 131, 950), (array([-0.23329526], dtype=float32), 131, 1012), (array([-0.61599791], dtype=float32), 131, 1017), (array([-0.85900486], dtype=float32), 131, 1018), (array([-1.68344474], dtype=float32), 131, 1013), (array([-1.78525496], dtype=float32), 131, 1020)]\n",
      "[[  131.  1016.]\n",
      " [  131.  1019.]\n",
      " [  131.  1014.]\n",
      " [  131.   950.]\n",
      " [  131.  1012.]\n",
      " [  131.  1017.]\n",
      " [  131.  1018.]\n",
      " [  131.  1013.]\n",
      " [  131.  1020.]]\n",
      "ranking by pred\n",
      "[(array([ 0.92732674], dtype=float32), 132, 1024), (array([ 0.6942389], dtype=float32), 132, 1016), (array([ 0.44962656], dtype=float32), 132, 1019), (array([ 0.37302232], dtype=float32), 132, 1014), (array([ 0.20894063], dtype=float32), 132, 950), (array([ 0.20206499], dtype=float32), 132, 1025), (array([ 0.10363251], dtype=float32), 132, 1026), (array([ 0.07845059], dtype=float32), 132, 952), (array([-0.07463354], dtype=float32), 132, 1023), (array([-0.23329526], dtype=float32), 132, 1012), (array([-0.30612409], dtype=float32), 132, 951), (array([-0.55541468], dtype=float32), 132, 1015), (array([-0.61599791], dtype=float32), 132, 1017), (array([-0.85900486], dtype=float32), 132, 1018), (array([-1.68344474], dtype=float32), 132, 1013), (array([-1.78525496], dtype=float32), 132, 1020)]\n",
      "[[  132.  1024.]\n",
      " [  132.  1016.]\n",
      " [  132.  1019.]\n",
      " [  132.  1014.]\n",
      " [  132.   950.]\n",
      " [  132.  1025.]\n",
      " [  132.  1026.]\n",
      " [  132.   952.]\n",
      " [  132.  1023.]\n",
      " [  132.  1012.]\n",
      " [  132.   951.]\n",
      " [  132.  1015.]\n",
      " [  132.  1017.]\n",
      " [  132.  1018.]\n",
      " [  132.  1013.]\n",
      " [  132.  1020.]]\n",
      "ranking by pred\n",
      "[(array([ 0.92732674], dtype=float32), 133, 1024), (array([ 0.6942389], dtype=float32), 133, 1016), (array([ 0.44962656], dtype=float32), 133, 1019), (array([ 0.20894063], dtype=float32), 133, 950), (array([-0.23329526], dtype=float32), 133, 1012), (array([-0.58182931], dtype=float32), 133, 1022), (array([-0.85900486], dtype=float32), 133, 1018), (array([-1.78525496], dtype=float32), 133, 1020)]\n",
      "[[  133.  1024.]\n",
      " [  133.  1016.]\n",
      " [  133.  1019.]\n",
      " [  133.   950.]\n",
      " [  133.  1012.]\n",
      " [  133.  1022.]\n",
      " [  133.  1018.]\n",
      " [  133.  1020.]]\n",
      "simple rewirte\n",
      "ranking by pred\n",
      "[(array([ 0.92732674], dtype=float32), 135, 1024), (array([ 0.6942389], dtype=float32), 135, 1016), (array([ 0.20894063], dtype=float32), 135, 950), (array([ 0.20206499], dtype=float32), 135, 1025), (array([ 0.10363251], dtype=float32), 135, 1026), (array([-0.07463354], dtype=float32), 135, 1023), (array([-0.30612409], dtype=float32), 135, 951), (array([-0.61599791], dtype=float32), 135, 1017), (array([-0.85900486], dtype=float32), 135, 1018)]\n",
      "[[  135.  1024.]\n",
      " [  135.  1016.]\n",
      " [  135.   950.]\n",
      " [  135.  1025.]\n",
      " [  135.  1026.]\n",
      " [  135.  1023.]\n",
      " [  135.   951.]\n",
      " [  135.  1017.]\n",
      " [  135.  1018.]]\n",
      "ranking by pred\n",
      "[(array([ 0.16137499], dtype=float32), 136, 1034), (array([-0.24492073], dtype=float32), 136, 1021), (array([-0.30612409], dtype=float32), 136, 951), (array([-0.58182931], dtype=float32), 136, 1022)]\n",
      "[[  136.  1034.]\n",
      " [  136.  1021.]\n",
      " [  136.   951.]\n",
      " [  136.  1022.]]\n",
      "ranking by pred\n",
      "[(array([ 0.66660553], dtype=float32), 137, 1029), (array([ 0.16137499], dtype=float32), 137, 1034), (array([ 0.07845059], dtype=float32), 137, 952), (array([-0.24492073], dtype=float32), 137, 1021), (array([-0.30612409], dtype=float32), 137, 951)]\n",
      "[[  137.  1029.]\n",
      " [  137.  1034.]\n",
      " [  137.   952.]\n",
      " [  137.  1021.]\n",
      " [  137.   951.]]\n",
      "ranking by pred\n",
      "[(array([ 2.62221813], dtype=float32), 138, 846), (array([ 2.44884014], dtype=float32), 138, 1036), (array([ 0.06976795], dtype=float32), 138, 953)]\n",
      "[[  138.   846.]\n",
      " [  138.  1036.]\n",
      " [  138.   953.]]\n",
      "ranking by pred\n",
      "[(array([ 2.0324173], dtype=float32), 139, 1032), (array([ 0.66971374], dtype=float32), 139, 1031), (array([ 0.5042153], dtype=float32), 139, 1037), (array([ 0.06976795], dtype=float32), 139, 953), (array([-1.05845189], dtype=float32), 139, 1035)]\n",
      "[[  139.  1032.]\n",
      " [  139.  1031.]\n",
      " [  139.  1037.]\n",
      " [  139.   953.]\n",
      " [  139.  1035.]]\n",
      "ranking by pred\n",
      "[(array([ 1.98335636], dtype=float32), 140, 1043), (array([ 0.81561363], dtype=float32), 140, 1044), (array([ 0.64961493], dtype=float32), 140, 1042), (array([ 0.62626803], dtype=float32), 140, 954), (array([ 0.16086218], dtype=float32), 140, 1041), (array([-0.25882006], dtype=float32), 140, 1038), (array([-0.49374622], dtype=float32), 140, 1039)]\n",
      "[[  140.  1043.]\n",
      " [  140.  1044.]\n",
      " [  140.  1042.]\n",
      " [  140.   954.]\n",
      " [  140.  1041.]\n",
      " [  140.  1038.]\n",
      " [  140.  1039.]]\n",
      "ranking by pred\n",
      "[(array([ 1.98335636], dtype=float32), 141, 1043), (array([ 0.81561363], dtype=float32), 141, 1044), (array([ 0.64961493], dtype=float32), 141, 1042), (array([ 0.62626803], dtype=float32), 141, 954), (array([ 0.16086218], dtype=float32), 141, 1041), (array([-0.25882006], dtype=float32), 141, 1038), (array([-0.49374622], dtype=float32), 141, 1039)]\n",
      "[[  141.  1043.]\n",
      " [  141.  1044.]\n",
      " [  141.  1042.]\n",
      " [  141.   954.]\n",
      " [  141.  1041.]\n",
      " [  141.  1038.]\n",
      " [  141.  1039.]]\n",
      "ranking by pred\n",
      "[(array([ 0.64961493], dtype=float32), 142, 1042), (array([ 0.62626803], dtype=float32), 142, 954)]\n",
      "[[  142.  1042.]\n",
      " [  142.   954.]]\n",
      "ranking by pred\n",
      "[(array([ 1.98335636], dtype=float32), 143, 1043), (array([ 0.81561363], dtype=float32), 143, 1044), (array([ 0.62626803], dtype=float32), 143, 954)]\n",
      "[[  143.  1043.]\n",
      " [  143.  1044.]\n",
      " [  143.   954.]]\n",
      "simple rewirte\n",
      "ranking by pred\n",
      "[(array([ 2.8848629], dtype=float32), 145, 1045), (array([ 1.38850427], dtype=float32), 145, 838), (array([ 1.23691988], dtype=float32), 145, 841), (array([ 0.65966803], dtype=float32), 145, 852), (array([ 0.26312435], dtype=float32), 145, 839), (array([ 0.05679315], dtype=float32), 145, 955), (array([-0.98945785], dtype=float32), 145, 743), (array([-1.21672738], dtype=float32), 145, 763)]\n",
      "[[  145.  1045.]\n",
      " [  145.   838.]\n",
      " [  145.   841.]\n",
      " [  145.   852.]\n",
      " [  145.   839.]\n",
      " [  145.   955.]\n",
      " [  145.   743.]\n",
      " [  145.   763.]]\n",
      "ranking by pred\n",
      "[(array([ 2.8848629], dtype=float32), 146, 1045), (array([ 0.05679315], dtype=float32), 146, 955), (array([-0.91451705], dtype=float32), 146, 840)]\n",
      "[[  146.  1045.]\n",
      " [  146.   955.]\n",
      " [  146.   840.]]\n",
      "ranking by pred\n",
      "[(array([ 4.25079393], dtype=float32), 147, 889), (array([ 1.89173579], dtype=float32), 147, 1051), (array([ 1.77905059], dtype=float32), 147, 1048), (array([ 1.28332281], dtype=float32), 147, 1049), (array([ 0.07349148], dtype=float32), 147, 822), (array([-0.1594246], dtype=float32), 147, 1050), (array([-0.49062258], dtype=float32), 147, 956), (array([-0.65878117], dtype=float32), 147, 926), (array([-0.71105683], dtype=float32), 147, 1047), (array([-1.13990188], dtype=float32), 147, 1046), (array([-2.01789713], dtype=float32), 147, 843)]\n",
      "[[  147.   889.]\n",
      " [  147.  1051.]\n",
      " [  147.  1048.]\n",
      " [  147.  1049.]\n",
      " [  147.   822.]\n",
      " [  147.  1050.]\n",
      " [  147.   956.]\n",
      " [  147.   926.]\n",
      " [  147.  1047.]\n",
      " [  147.  1046.]\n",
      " [  147.   843.]]\n",
      "ranking by pred\n",
      "[(array([ 4.25079393], dtype=float32), 148, 889), (array([ 1.77905059], dtype=float32), 148, 1048), (array([ 1.28332281], dtype=float32), 148, 1049), (array([-0.1594246], dtype=float32), 148, 1050), (array([-0.49062258], dtype=float32), 148, 956), (array([-1.13990188], dtype=float32), 148, 1046), (array([-2.01789713], dtype=float32), 148, 843)]\n",
      "[[  148.   889.]\n",
      " [  148.  1048.]\n",
      " [  148.  1049.]\n",
      " [  148.  1050.]\n",
      " [  148.   956.]\n",
      " [  148.  1046.]\n",
      " [  148.   843.]]\n",
      "ranking by pred\n",
      "[(array([ 5.06969595], dtype=float32), 149, 931), (array([ 1.01694155], dtype=float32), 149, 1057), (array([ 0.96917242], dtype=float32), 149, 1131), (array([ 0.93400484], dtype=float32), 149, 934), (array([ 0.7630586], dtype=float32), 149, 930), (array([-0.05153555], dtype=float32), 149, 1058), (array([-0.08088529], dtype=float32), 149, 1059), (array([-0.24356186], dtype=float32), 149, 1052), (array([-0.79947424], dtype=float32), 149, 957), (array([-1.02813625], dtype=float32), 149, 936), (array([-1.11962831], dtype=float32), 149, 937), (array([-1.44368637], dtype=float32), 149, 938)]\n",
      "[[  149.   931.]\n",
      " [  149.  1057.]\n",
      " [  149.  1131.]\n",
      " [  149.   934.]\n",
      " [  149.   930.]\n",
      " [  149.  1058.]\n",
      " [  149.  1059.]\n",
      " [  149.  1052.]\n",
      " [  149.   957.]\n",
      " [  149.   936.]\n",
      " [  149.   937.]\n",
      " [  149.   938.]]\n",
      "ranking by pred\n",
      "[(array([ 2.89652061], dtype=float32), 150, 1062), (array([ 0.85662389], dtype=float32), 150, 1075), (array([-1.07700038], dtype=float32), 150, 1074)]\n",
      "[[  150.  1062.]\n",
      " [  150.  1075.]\n",
      " [  150.  1074.]]\n",
      "simple rewirte\n",
      "ranking by pred\n"
     ]
    },
    {
     "name": "stdout",
     "output_type": "stream",
     "text": [
      "[(array([ 3.16388679], dtype=float32), 152, 655), (array([ 2.89652061], dtype=float32), 152, 1062), (array([ 0.89000368], dtype=float32), 152, 569), (array([ 0.1872029], dtype=float32), 152, 572), (array([ 0.14488879], dtype=float32), 152, 687), (array([-0.29378313], dtype=float32), 152, 1077), (array([-1.14427674], dtype=float32), 152, 1076)]\n",
      "[[  152.   655.]\n",
      " [  152.  1062.]\n",
      " [  152.   569.]\n",
      " [  152.   572.]\n",
      " [  152.   687.]\n",
      " [  152.  1077.]\n",
      " [  152.  1076.]]\n",
      "ranking by pred\n",
      "[(array([ 2.91569901], dtype=float32), 153, 1085), (array([ 1.88868499], dtype=float32), 153, 1083), (array([ 1.57192075], dtype=float32), 153, 1078), (array([ 1.04457748], dtype=float32), 153, 1081), (array([ 0.58489966], dtype=float32), 153, 1080), (array([-0.18531835], dtype=float32), 153, 1082), (array([-0.41898793], dtype=float32), 153, 1063), (array([-1.60840559], dtype=float32), 153, 1084)]\n",
      "[[  153.  1085.]\n",
      " [  153.  1083.]\n",
      " [  153.  1078.]\n",
      " [  153.  1081.]\n",
      " [  153.  1080.]\n",
      " [  153.  1082.]\n",
      " [  153.  1063.]\n",
      " [  153.  1084.]]\n",
      "ranking by pred\n",
      "[(array([ 0.03107417], dtype=float32), 154, 1087), (array([-0.16206723], dtype=float32), 154, 1088), (array([-0.41898793], dtype=float32), 154, 1063)]\n",
      "[[  154.  1087.]\n",
      " [  154.  1088.]\n",
      " [  154.  1063.]]\n",
      "ranking by pred\n",
      "[(array([ 2.22698259], dtype=float32), 155, 1104), (array([ 1.18478525], dtype=float32), 155, 1101), (array([ 1.08899426], dtype=float32), 155, 1099), (array([ 0.67140359], dtype=float32), 155, 1103), (array([ 0.5805949], dtype=float32), 155, 1100), (array([-0.41114807], dtype=float32), 155, 983), (array([-0.60298562], dtype=float32), 155, 1065)]\n",
      "[[  155.  1104.]\n",
      " [  155.  1101.]\n",
      " [  155.  1099.]\n",
      " [  155.  1103.]\n",
      " [  155.  1100.]\n",
      " [  155.   983.]\n",
      " [  155.  1065.]]\n",
      "ranking by pred\n",
      "[(array([ 2.44796801], dtype=float32), 156, 982), (array([ 2.22698259], dtype=float32), 156, 1104), (array([ 1.6089884], dtype=float32), 156, 82), (array([ 1.18478525], dtype=float32), 156, 1101), (array([ 1.08899426], dtype=float32), 156, 1099), (array([ 0.9595964], dtype=float32), 156, 1102), (array([ 0.67140359], dtype=float32), 156, 1103), (array([ 0.5805949], dtype=float32), 156, 1100), (array([ 0.41744253], dtype=float32), 156, 274), (array([ 0.07205352], dtype=float32), 156, 1097), (array([-0.41114807], dtype=float32), 156, 983), (array([-0.55134499], dtype=float32), 156, 1096), (array([-0.60298562], dtype=float32), 156, 1065), (array([-1.25908291], dtype=float32), 156, 553), (array([-1.61879301], dtype=float32), 156, 1098)]\n",
      "[[  156.   982.]\n",
      " [  156.  1104.]\n",
      " [  156.    82.]\n",
      " [  156.  1101.]\n",
      " [  156.  1099.]\n",
      " [  156.  1102.]\n",
      " [  156.  1103.]\n",
      " [  156.  1100.]\n",
      " [  156.   274.]\n",
      " [  156.  1097.]\n",
      " [  156.   983.]\n",
      " [  156.  1096.]\n",
      " [  156.  1065.]\n",
      " [  156.   553.]\n",
      " [  156.  1098.]]\n",
      "ranking by pred\n",
      "[(array([ 6.30768251], dtype=float32), 157, 557), (array([ 4.76697016], dtype=float32), 157, 354), (array([ 4.7661109], dtype=float32), 157, 689), (array([ 4.34943914], dtype=float32), 157, 25), (array([ 4.10262108], dtype=float32), 157, 657), (array([ 3.24671912], dtype=float32), 157, 44), (array([ 3.16388679], dtype=float32), 157, 655), (array([ 2.93239522], dtype=float32), 157, 160), (array([ 2.78663278], dtype=float32), 157, 318), (array([ 2.4731729], dtype=float32), 157, 1106), (array([ 2.35917997], dtype=float32), 157, 1355), (array([ 1.76976907], dtype=float32), 157, 1304), (array([ 1.75737023], dtype=float32), 157, 666), (array([ 1.64738834], dtype=float32), 157, 161), (array([ 1.64686823], dtype=float32), 157, 1011), (array([ 1.61782193], dtype=float32), 157, 605), (array([ 1.54546165], dtype=float32), 157, 302), (array([ 1.37647343], dtype=float32), 157, 215), (array([ 1.3438201], dtype=float32), 157, 19), (array([ 1.19989371], dtype=float32), 157, 35), (array([ 1.0765748], dtype=float32), 157, 36), (array([ 0.97906566], dtype=float32), 157, 273), (array([ 0.95735395], dtype=float32), 157, 369), (array([ 0.84273183], dtype=float32), 157, 482), (array([ 0.6961264], dtype=float32), 157, 372), (array([ 0.42389926], dtype=float32), 157, 122), (array([ 0.2151013], dtype=float32), 157, 1307), (array([ 0.1872029], dtype=float32), 157, 572), (array([-0.00658083], dtype=float32), 157, 1006), (array([-0.06688344], dtype=float32), 157, 1105), (array([-0.08420646], dtype=float32), 157, 626), (array([-0.19795901], dtype=float32), 157, 421), (array([-0.22793347], dtype=float32), 157, 1107), (array([-0.25160837], dtype=float32), 157, 456), (array([-0.28198147], dtype=float32), 157, 423), (array([-0.28303915], dtype=float32), 157, 410), (array([-0.71662581], dtype=float32), 157, 93), (array([-0.84406853], dtype=float32), 157, 370), (array([-1.23378122], dtype=float32), 157, 556), (array([-1.54362178], dtype=float32), 157, 1151)]\n",
      "[[  157.   557.]\n",
      " [  157.   354.]\n",
      " [  157.   689.]\n",
      " [  157.    25.]\n",
      " [  157.   657.]\n",
      " [  157.    44.]\n",
      " [  157.   655.]\n",
      " [  157.   160.]\n",
      " [  157.   318.]\n",
      " [  157.  1106.]\n",
      " [  157.  1355.]\n",
      " [  157.  1304.]\n",
      " [  157.   666.]\n",
      " [  157.   161.]\n",
      " [  157.  1011.]\n",
      " [  157.   605.]\n",
      " [  157.   302.]\n",
      " [  157.   215.]\n",
      " [  157.    19.]\n",
      " [  157.    35.]\n",
      " [  157.    36.]\n",
      " [  157.   273.]\n",
      " [  157.   369.]\n",
      " [  157.   482.]\n",
      " [  157.   372.]\n",
      " [  157.   122.]\n",
      " [  157.  1307.]\n",
      " [  157.   572.]\n",
      " [  157.  1006.]\n",
      " [  157.  1105.]\n",
      " [  157.   626.]\n",
      " [  157.   421.]\n",
      " [  157.  1107.]\n",
      " [  157.   456.]\n",
      " [  157.   423.]\n",
      " [  157.   410.]\n",
      " [  157.    93.]\n",
      " [  157.   370.]\n",
      " [  157.   556.]\n",
      " [  157.  1151.]]\n",
      "ranking by pred\n",
      "[(array([ 1.67831111], dtype=float32), 158, 998), (array([ 1.64686823], dtype=float32), 158, 1011), (array([ 1.54546165], dtype=float32), 158, 302), (array([ 1.44823468], dtype=float32), 158, 1010), (array([ 0.97906566], dtype=float32), 158, 273), (array([-0.00658083], dtype=float32), 158, 1006), (array([-1.15888333], dtype=float32), 158, 1009), (array([-1.23378122], dtype=float32), 158, 556), (array([-1.46617532], dtype=float32), 158, 552)]\n",
      "[[  158.   998.]\n",
      " [  158.  1011.]\n",
      " [  158.   302.]\n",
      " [  158.  1010.]\n",
      " [  158.   273.]\n",
      " [  158.  1006.]\n",
      " [  158.  1009.]\n",
      " [  158.   556.]\n",
      " [  158.   552.]]\n",
      "simple rewirte\n",
      "ranking by pred\n",
      "[(array([ 1.28367615], dtype=float32), 160, 1138), (array([ 0.62842798], dtype=float32), 160, 1135), (array([ 0.43046385], dtype=float32), 160, 1136), (array([-0.43324536], dtype=float32), 160, 1137), (array([-0.87788117], dtype=float32), 160, 1071), (array([-1.84836936], dtype=float32), 160, 1134)]\n",
      "[[  160.  1138.]\n",
      " [  160.  1135.]\n",
      " [  160.  1136.]\n",
      " [  160.  1137.]\n",
      " [  160.  1071.]\n",
      " [  160.  1134.]]\n",
      "ranking by pred\n"
     ]
    },
    {
     "ename": "ValueError",
     "evalue": "Found array with 0 sample(s) (shape=(0, 60)) while a minimum of 1 is required by the normalize function.",
     "output_type": "error",
     "traceback": [
      "\u001b[0;31m---------------------------------------------------------------------------\u001b[0m",
      "\u001b[0;31mValueError\u001b[0m                                Traceback (most recent call last)",
      "\u001b[0;32m<ipython-input-81-d904d4afacfc>\u001b[0m in \u001b[0;36m<module>\u001b[0;34m()\u001b[0m\n\u001b[1;32m     16\u001b[0m         \u001b[0;32mif\u001b[0m \u001b[0mlen\u001b[0m\u001b[0;34m(\u001b[0m\u001b[0mqueries\u001b[0m\u001b[0;34m[\u001b[0m\u001b[0mqueries\u001b[0m\u001b[0;34m[\u001b[0m\u001b[0;34m'QueryId'\u001b[0m\u001b[0;34m]\u001b[0m \u001b[0;34m==\u001b[0m \u001b[0mint\u001b[0m\u001b[0;34m(\u001b[0m\u001b[0mprev_q\u001b[0m\u001b[0;34m)\u001b[0m\u001b[0;34m]\u001b[0m\u001b[0;34m)\u001b[0m \u001b[0;34m>\u001b[0m \u001b[0;36m0\u001b[0m\u001b[0;34m:\u001b[0m\u001b[0;34m\u001b[0m\u001b[0m\n\u001b[1;32m     17\u001b[0m             \u001b[0mprint\u001b[0m\u001b[0;34m(\u001b[0m\u001b[0;34m'ranking by pred'\u001b[0m\u001b[0;34m)\u001b[0m\u001b[0;34m\u001b[0m\u001b[0m\n\u001b[0;32m---> 18\u001b[0;31m             \u001b[0mr\u001b[0m \u001b[0;34m=\u001b[0m \u001b[0mrank_tfidf\u001b[0m\u001b[0;34m(\u001b[0m\u001b[0mrel_test\u001b[0m\u001b[0;34m.\u001b[0m\u001b[0miloc\u001b[0m\u001b[0;34m[\u001b[0m\u001b[0mprev_i\u001b[0m\u001b[0;34m:\u001b[0m\u001b[0mi\u001b[0m\u001b[0;34m,\u001b[0m\u001b[0;36m0\u001b[0m\u001b[0;34m]\u001b[0m\u001b[0;34m,\u001b[0m \u001b[0mrel_test\u001b[0m\u001b[0;34m.\u001b[0m\u001b[0miloc\u001b[0m\u001b[0;34m[\u001b[0m\u001b[0mprev_i\u001b[0m\u001b[0;34m:\u001b[0m\u001b[0mi\u001b[0m\u001b[0;34m,\u001b[0m\u001b[0;36m1\u001b[0m\u001b[0;34m]\u001b[0m\u001b[0;34m)\u001b[0m\u001b[0;34m\u001b[0m\u001b[0m\n\u001b[0m\u001b[1;32m     19\u001b[0m             \u001b[0;32mfor\u001b[0m \u001b[0mrow\u001b[0m \u001b[0;32min\u001b[0m \u001b[0mr\u001b[0m\u001b[0;34m:\u001b[0m\u001b[0;34m\u001b[0m\u001b[0m\n\u001b[1;32m     20\u001b[0m                 \u001b[0mresult\u001b[0m\u001b[0;34m[\u001b[0m\u001b[0mcnt\u001b[0m\u001b[0;34m,\u001b[0m\u001b[0;36m0\u001b[0m\u001b[0;34m]\u001b[0m \u001b[0;34m=\u001b[0m \u001b[0mrow\u001b[0m\u001b[0;34m[\u001b[0m\u001b[0;36m0\u001b[0m\u001b[0;34m]\u001b[0m\u001b[0;34m\u001b[0m\u001b[0m\n",
      "\u001b[0;32m<ipython-input-62-07e401f22131>\u001b[0m in \u001b[0;36mrank_tfidf\u001b[0;34m(q_ids, d_ids)\u001b[0m\n\u001b[1;32m      3\u001b[0m     \u001b[0;32mfor\u001b[0m \u001b[0mq_id\u001b[0m\u001b[0;34m,\u001b[0m \u001b[0md_id\u001b[0m \u001b[0;32min\u001b[0m \u001b[0mzip\u001b[0m\u001b[0;34m(\u001b[0m\u001b[0mq_ids\u001b[0m\u001b[0;34m,\u001b[0m \u001b[0md_ids\u001b[0m\u001b[0;34m)\u001b[0m\u001b[0;34m:\u001b[0m\u001b[0;34m\u001b[0m\u001b[0m\n\u001b[1;32m      4\u001b[0m         \u001b[0mq_v\u001b[0m \u001b[0;34m=\u001b[0m \u001b[0mnp\u001b[0m\u001b[0;34m.\u001b[0m\u001b[0mmean\u001b[0m\u001b[0;34m(\u001b[0m\u001b[0mtv_queries\u001b[0m\u001b[0;34m.\u001b[0m\u001b[0mtransform\u001b[0m\u001b[0;34m(\u001b[0m\u001b[0mqueries\u001b[0m\u001b[0;34m[\u001b[0m\u001b[0mqueries\u001b[0m\u001b[0;34m[\u001b[0m\u001b[0;34m'QueryId'\u001b[0m\u001b[0;34m]\u001b[0m\u001b[0;34m==\u001b[0m\u001b[0mq_id\u001b[0m\u001b[0;34m]\u001b[0m\u001b[0;34m)\u001b[0m\u001b[0;34m,\u001b[0m \u001b[0maxis\u001b[0m\u001b[0;34m=\u001b[0m\u001b[0;36m0\u001b[0m\u001b[0;34m)\u001b[0m\u001b[0;34m\u001b[0m\u001b[0m\n\u001b[0;32m----> 5\u001b[0;31m         \u001b[0md_v\u001b[0m \u001b[0;34m=\u001b[0m \u001b[0mnp\u001b[0m\u001b[0;34m.\u001b[0m\u001b[0mmean\u001b[0m\u001b[0;34m(\u001b[0m\u001b[0mtv_docs\u001b[0m\u001b[0;34m.\u001b[0m\u001b[0mtransform\u001b[0m\u001b[0;34m(\u001b[0m\u001b[0mdocs\u001b[0m\u001b[0;34m[\u001b[0m\u001b[0mstr\u001b[0m\u001b[0;34m(\u001b[0m\u001b[0md_id\u001b[0m\u001b[0;34m)\u001b[0m\u001b[0;34m]\u001b[0m\u001b[0;34m.\u001b[0m\u001b[0mtext\u001b[0m\u001b[0;34m)\u001b[0m\u001b[0;34m,\u001b[0m \u001b[0maxis\u001b[0m\u001b[0;34m=\u001b[0m\u001b[0;36m0\u001b[0m\u001b[0;34m)\u001b[0m\u001b[0;34m\u001b[0m\u001b[0m\n\u001b[0m\u001b[1;32m      6\u001b[0m         \u001b[0mr\u001b[0m \u001b[0;34m=\u001b[0m \u001b[0mnp\u001b[0m\u001b[0;34m.\u001b[0m\u001b[0mhstack\u001b[0m\u001b[0;34m(\u001b[0m\u001b[0;34m(\u001b[0m\u001b[0mq_v\u001b[0m\u001b[0;34m,\u001b[0m \u001b[0md_v\u001b[0m\u001b[0;34m)\u001b[0m\u001b[0;34m)\u001b[0m\u001b[0;34m.\u001b[0m\u001b[0mreshape\u001b[0m\u001b[0;34m(\u001b[0m\u001b[0;36m2\u001b[0m \u001b[0;34m*\u001b[0m \u001b[0mSIZE\u001b[0m\u001b[0;34m)\u001b[0m\u001b[0;34m\u001b[0m\u001b[0m\n\u001b[1;32m      7\u001b[0m         \u001b[0mm\u001b[0m \u001b[0;34m=\u001b[0m \u001b[0mxgb\u001b[0m\u001b[0;34m.\u001b[0m\u001b[0mDMatrix\u001b[0m\u001b[0;34m(\u001b[0m\u001b[0mr\u001b[0m\u001b[0;34m)\u001b[0m\u001b[0;34m\u001b[0m\u001b[0m\n",
      "\u001b[0;32m~/anaconda3/lib/python3.6/site-packages/sklearn/feature_extraction/text.py\u001b[0m in \u001b[0;36mtransform\u001b[0;34m(self, raw_documents, copy)\u001b[0m\n\u001b[1;32m   1408\u001b[0m \u001b[0;34m\u001b[0m\u001b[0m\n\u001b[1;32m   1409\u001b[0m         \u001b[0mX\u001b[0m \u001b[0;34m=\u001b[0m \u001b[0msuper\u001b[0m\u001b[0;34m(\u001b[0m\u001b[0mTfidfVectorizer\u001b[0m\u001b[0;34m,\u001b[0m \u001b[0mself\u001b[0m\u001b[0;34m)\u001b[0m\u001b[0;34m.\u001b[0m\u001b[0mtransform\u001b[0m\u001b[0;34m(\u001b[0m\u001b[0mraw_documents\u001b[0m\u001b[0;34m)\u001b[0m\u001b[0;34m\u001b[0m\u001b[0m\n\u001b[0;32m-> 1410\u001b[0;31m         \u001b[0;32mreturn\u001b[0m \u001b[0mself\u001b[0m\u001b[0;34m.\u001b[0m\u001b[0m_tfidf\u001b[0m\u001b[0;34m.\u001b[0m\u001b[0mtransform\u001b[0m\u001b[0;34m(\u001b[0m\u001b[0mX\u001b[0m\u001b[0;34m,\u001b[0m \u001b[0mcopy\u001b[0m\u001b[0;34m=\u001b[0m\u001b[0;32mFalse\u001b[0m\u001b[0;34m)\u001b[0m\u001b[0;34m\u001b[0m\u001b[0m\n\u001b[0m",
      "\u001b[0;32m~/anaconda3/lib/python3.6/site-packages/sklearn/feature_extraction/text.py\u001b[0m in \u001b[0;36mtransform\u001b[0;34m(self, X, copy)\u001b[0m\n\u001b[1;32m   1112\u001b[0m \u001b[0;34m\u001b[0m\u001b[0m\n\u001b[1;32m   1113\u001b[0m         \u001b[0;32mif\u001b[0m \u001b[0mself\u001b[0m\u001b[0;34m.\u001b[0m\u001b[0mnorm\u001b[0m\u001b[0;34m:\u001b[0m\u001b[0;34m\u001b[0m\u001b[0m\n\u001b[0;32m-> 1114\u001b[0;31m             \u001b[0mX\u001b[0m \u001b[0;34m=\u001b[0m \u001b[0mnormalize\u001b[0m\u001b[0;34m(\u001b[0m\u001b[0mX\u001b[0m\u001b[0;34m,\u001b[0m \u001b[0mnorm\u001b[0m\u001b[0;34m=\u001b[0m\u001b[0mself\u001b[0m\u001b[0;34m.\u001b[0m\u001b[0mnorm\u001b[0m\u001b[0;34m,\u001b[0m \u001b[0mcopy\u001b[0m\u001b[0;34m=\u001b[0m\u001b[0;32mFalse\u001b[0m\u001b[0;34m)\u001b[0m\u001b[0;34m\u001b[0m\u001b[0m\n\u001b[0m\u001b[1;32m   1115\u001b[0m \u001b[0;34m\u001b[0m\u001b[0m\n\u001b[1;32m   1116\u001b[0m         \u001b[0;32mreturn\u001b[0m \u001b[0mX\u001b[0m\u001b[0;34m\u001b[0m\u001b[0m\n",
      "\u001b[0;32m~/anaconda3/lib/python3.6/site-packages/sklearn/preprocessing/data.py\u001b[0m in \u001b[0;36mnormalize\u001b[0;34m(X, norm, axis, copy, return_norm)\u001b[0m\n\u001b[1;32m   1410\u001b[0m \u001b[0;34m\u001b[0m\u001b[0m\n\u001b[1;32m   1411\u001b[0m     X = check_array(X, sparse_format, copy=copy,\n\u001b[0;32m-> 1412\u001b[0;31m                     estimator='the normalize function', dtype=FLOAT_DTYPES)\n\u001b[0m\u001b[1;32m   1413\u001b[0m     \u001b[0;32mif\u001b[0m \u001b[0maxis\u001b[0m \u001b[0;34m==\u001b[0m \u001b[0;36m0\u001b[0m\u001b[0;34m:\u001b[0m\u001b[0;34m\u001b[0m\u001b[0m\n\u001b[1;32m   1414\u001b[0m         \u001b[0mX\u001b[0m \u001b[0;34m=\u001b[0m \u001b[0mX\u001b[0m\u001b[0;34m.\u001b[0m\u001b[0mT\u001b[0m\u001b[0;34m\u001b[0m\u001b[0m\n",
      "\u001b[0;32m~/anaconda3/lib/python3.6/site-packages/sklearn/utils/validation.py\u001b[0m in \u001b[0;36mcheck_array\u001b[0;34m(array, accept_sparse, dtype, order, copy, force_all_finite, ensure_2d, allow_nd, ensure_min_samples, ensure_min_features, warn_on_dtype, estimator)\u001b[0m\n\u001b[1;32m    429\u001b[0m                              \u001b[0;34m\" minimum of %d is required%s.\"\u001b[0m\u001b[0;34m\u001b[0m\u001b[0m\n\u001b[1;32m    430\u001b[0m                              % (n_samples, shape_repr, ensure_min_samples,\n\u001b[0;32m--> 431\u001b[0;31m                                 context))\n\u001b[0m\u001b[1;32m    432\u001b[0m \u001b[0;34m\u001b[0m\u001b[0m\n\u001b[1;32m    433\u001b[0m     \u001b[0;32mif\u001b[0m \u001b[0mensure_min_features\u001b[0m \u001b[0;34m>\u001b[0m \u001b[0;36m0\u001b[0m \u001b[0;32mand\u001b[0m \u001b[0marray\u001b[0m\u001b[0;34m.\u001b[0m\u001b[0mndim\u001b[0m \u001b[0;34m==\u001b[0m \u001b[0;36m2\u001b[0m\u001b[0;34m:\u001b[0m\u001b[0;34m\u001b[0m\u001b[0m\n",
      "\u001b[0;31mValueError\u001b[0m: Found array with 0 sample(s) (shape=(0, 60)) while a minimum of 1 is required by the normalize function."
     ]
    }
   ],
   "source": [
    "prev_q = -1\n",
    "prev_i = -1\n",
    "cnt = 0\n",
    "\n",
    "result = np.zeros((len(rel_test),2))\n",
    "\n",
    "for i,row in rel_test.iterrows():\n",
    "    q_id = str(row['QueryId'])\n",
    "    d_id = str(row['DocumentId'])\n",
    "    \n",
    "    if prev_q == -1:\n",
    "        prev_q = q_id\n",
    "        prev_i = i\n",
    "        \n",
    "    if prev_q != q_id:\n",
    "        if len(queries[queries['QueryId'] == int(prev_q)]) > 0:\n",
    "            print('ranking by pred')\n",
    "            r = rank_tfidf(rel_test.iloc[prev_i:i,0], rel_test.iloc[prev_i:i,1])\n",
    "            for row in r:\n",
    "                result[cnt,0] = row[0]\n",
    "                result[cnt,1] = row[1]\n",
    "                cnt += 1\n",
    "        else:\n",
    "            print('simple rewirte')\n",
    "            for j in range(prev_i, i):\n",
    "                result[j,0] = rel_test.iloc[j,0]\n",
    "                result[j,1] = rel_test.iloc[j,1]\n",
    "                cnt += 1\n",
    "                \n",
    "        prev_q = q_id\n",
    "        prev_i = i\n",
    "    \n",
    "    if i == len(rel_test)-1:\n",
    "        i+= 1\n",
    "        if len(queries[queries['QueryId'] == int(q_id)]) > 0:\n",
    "            print('ranking by pred')\n",
    "            r = rank_tfidf(rel_test.iloc[prev_i:i,0], rel_test.iloc[prev_i:i,1])\n",
    "            for row in r:\n",
    "                result[cnt,0] = row[0]\n",
    "                result[cnt,1] = row[1]\n",
    "                cnt += 1\n",
    "        else:\n",
    "            print('simple rewirte')\n",
    "            for j in range(prev_i, i):\n",
    "                result[j,0] = rel_test.iloc[j,0]\n",
    "                result[j,1] = rel_test.iloc[j,1]\n",
    "                cnt += 1"
   ]
  },
  {
   "cell_type": "code",
   "execution_count": 194,
   "metadata": {
    "collapsed": true
   },
   "outputs": [],
   "source": [
    "tq = rel_test.iloc[0:9,0].values\n",
    "td = rel_test.iloc[0:9,1].values\n",
    "r2 = rank_block_by_pred(tq,td)"
   ]
  },
  {
   "cell_type": "code",
   "execution_count": 52,
   "metadata": {},
   "outputs": [
    {
     "data": {
      "text/plain": [
       "array([126, 127, 128, 129, 130, 131, 132, 133, 134, 135, 136, 137, 138,\n",
       "       139, 140, 141, 142, 143, 144, 145, 146, 147, 148, 149, 150, 151,\n",
       "       152, 153, 154, 155, 156, 157, 158, 159, 160, 161, 162, 163, 164,\n",
       "       165, 166, 167, 168, 169, 170, 171, 172, 173, 174, 175, 176, 177,\n",
       "       178, 179, 180, 181, 182, 183, 184, 185, 186, 187, 188, 189, 190,\n",
       "       191, 192, 193, 194, 195, 196, 197, 198, 199, 200, 201, 202, 203,\n",
       "       204, 205, 206, 207, 208, 209, 210, 211, 212, 213, 214, 215, 216,\n",
       "       217, 218, 219, 220, 221, 222, 223, 224, 225])"
      ]
     },
     "execution_count": 52,
     "metadata": {},
     "output_type": "execute_result"
    }
   ],
   "source": [
    "pd.unique(rel_test.iloc[0:len(rel_test), 0])"
   ]
  },
  {
   "cell_type": "code",
   "execution_count": 55,
   "metadata": {},
   "outputs": [
    {
     "data": {
      "text/plain": [
       "array([  1,   2,   4,   8,   9,  10,  12,  13,  15,  18,  22,  23,  26,\n",
       "        27,  29,  31,  32,  33,  34,  35,  39,  40,  41,  49,  50,  51,\n",
       "        52,  53,  54,  55,  56,  57,  58,  59,  61,  62,  66,  67,  68,\n",
       "        69,  71,  72,  74,  79,  80,  81,  82,  83,  84,  85,  86,  87,\n",
       "        93,  94,  95,  97,  98,  99, 100, 101, 102, 103, 104, 105, 106,\n",
       "       107, 108, 109, 110, 111, 112, 113, 114, 116, 118, 119, 120, 121,\n",
       "       122, 123, 126, 128, 130, 131, 132, 133, 135, 136, 137, 138, 139,\n",
       "       140, 141, 142, 143, 145, 146, 147, 148, 149, 150, 152, 153, 154,\n",
       "       155, 156, 157, 158, 160, 161, 163, 164, 165, 167, 168, 169, 170,\n",
       "       171, 173, 175, 176, 177, 181, 182, 183, 184, 187, 189, 190, 196,\n",
       "       200, 201, 202, 203, 204, 205, 206, 208, 209, 210, 211, 212, 213,\n",
       "       214, 215, 216, 217, 218, 219, 223, 224, 225, 226, 227, 230, 231,\n",
       "       232, 233, 234, 241, 245, 246, 247, 250, 251, 252, 253, 254, 255,\n",
       "       257, 259, 261, 264, 265, 266, 267, 268, 269, 272, 273, 274, 275,\n",
       "       277, 283, 284, 285, 288, 291, 292, 293, 294, 295, 296, 297, 298,\n",
       "       299, 300, 301, 303, 304, 306, 314, 315, 316, 317, 321, 323, 327,\n",
       "       331, 332, 333, 335, 336, 338, 339, 340, 347, 348, 349, 352, 353,\n",
       "       355, 356, 360, 365])"
      ]
     },
     "execution_count": 55,
     "metadata": {},
     "output_type": "execute_result"
    }
   ],
   "source": [
    "pd.unique(queries.iloc[0:len(queries), 0])"
   ]
  },
  {
   "cell_type": "code",
   "execution_count": 471,
   "metadata": {},
   "outputs": [
    {
     "data": {
      "text/plain": [
       "(847, 2)"
      ]
     },
     "execution_count": 471,
     "metadata": {},
     "output_type": "execute_result"
    }
   ],
   "source": [
    "result.shape"
   ]
  },
  {
   "cell_type": "code",
   "execution_count": 57,
   "metadata": {
    "collapsed": true
   },
   "outputs": [],
   "source": [
    "out = pd.DataFrame(result, dtype=np.uint8)"
   ]
  },
  {
   "cell_type": "code",
   "execution_count": 58,
   "metadata": {
    "collapsed": true
   },
   "outputs": [],
   "source": [
    "out.to_csv(path_or_buf='pred.csv', columns=(0,1), header=('QueryId','DocumentId'), index=False)"
   ]
  }
 ],
 "metadata": {
  "kernelspec": {
   "display_name": "Python 3",
   "language": "python",
   "name": "python3"
  },
  "language_info": {
   "codemirror_mode": {
    "name": "ipython",
    "version": 3
   },
   "file_extension": ".py",
   "mimetype": "text/x-python",
   "name": "python",
   "nbconvert_exporter": "python",
   "pygments_lexer": "ipython3",
   "version": "3.6.2"
  }
 },
 "nbformat": 4,
 "nbformat_minor": 2
}
